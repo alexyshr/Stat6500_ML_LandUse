{
 "cells": [
  {
   "cell_type": "code",
   "execution_count": 75,
   "id": "a3662b7f-069f-4a91-89ad-8a6ea92910b0",
   "metadata": {},
   "outputs": [],
   "source": [
    "import pandas as pd\n",
    "import numpy as np\n",
    "import os\n",
    "from statistics import mean\n",
    "# Machine Learning Libraries\n",
    "from sklearn.ensemble import RandomForestClassifier\n",
    "# Randomized Search of Hyperparameters\n",
    "from scipy.stats import randint\n",
    "from sklearn.experimental import enable_halving_search_cv  # noqa\n",
    "from sklearn.model_selection import HalvingRandomSearchCV\n",
    "\n",
    "# Analysis of accuracy\n",
    "from sklearn import metrics\n",
    "from sklearn.metrics import classification_report, confusion_matrix\n",
    "# Export the tree\n",
    "from sklearn.tree import export_graphviz\n",
    "# Convert to png using system command\n",
    "from subprocess import call\n",
    "\n",
    "# Feature Importance\n",
    "from sklearn.inspection import permutation_importance\n",
    "\n",
    "# Import and image to jupyter notebook\n",
    "from IPython.display import Image\n",
    "import time\n",
    "#Work with plots\n",
    "import matplotlib.pyplot as plt\n",
    "\n",
    "# Training and testing sampling\n",
    "# to ensure sam proportion of samples\n",
    "# in trainign and testing compared\n",
    "# with the whole dataset proportion\n",
    "from sklearn.model_selection import train_test_split\n",
    "from collections import Counter\n",
    "\n",
    "# Cross validation\n",
    "from sklearn.model_selection import cross_val_score\n",
    "from sklearn.model_selection import RepeatedStratifiedKFold"
   ]
  },
  {
   "cell_type": "code",
   "execution_count": 76,
   "id": "05703d54-1b5b-4aaa-a151-543432d89366",
   "metadata": {},
   "outputs": [
    {
     "name": "stdout",
     "output_type": "stream",
     "text": [
      "     BrdIndx  Area\n",
      "0       1.27    91\n",
      "1       2.36   241\n",
      "2       2.12   266\n",
      "3       2.42   399\n",
      "4       2.15   944\n",
      "..       ...   ...\n",
      "163     1.43    39\n",
      "164     1.92   141\n",
      "165     2.97   252\n",
      "166     1.57   216\n",
      "167     2.12   836\n",
      "\n",
      "[168 rows x 2 columns]\n"
     ]
    }
   ],
   "source": [
    "#Data\n",
    "dirname = os.getcwd()\n",
    "train_csv = os.path.join(dirname, \"training.csv\")\n",
    "missing_values = [\"n/a\", \"na\", \"--\"]\n",
    "train = pd.read_csv(variables_csv, na_values = missing_values)\n",
    "testing_csv = os.path.join(dirname, \"testing.csv\")\n",
    "test = pd.read_csv(testing_csv, na_values = missing_values)\n",
    "print (train.iloc[:, [1,2]])"
   ]
  },
  {
   "cell_type": "code",
   "execution_count": 77,
   "id": "7a4ba6b9-4257-4700-8c13-facf91029384",
   "metadata": {},
   "outputs": [
    {
     "name": "stdout",
     "output_type": "stream",
     "text": [
      "Rows and Columns(Train):  (168, 148)\n",
      "Rows and Columns(Test) :  (507, 148)\n"
     ]
    }
   ],
   "source": [
    "print(\"Rows and Columns(Train): \",train.shape)\n",
    "print(\"Rows and Columns(Test) : \",test.shape)"
   ]
  },
  {
   "cell_type": "code",
   "execution_count": 78,
   "id": "bf4d89de-bad3-43c1-b3b9-aab43290275c",
   "metadata": {},
   "outputs": [
    {
     "data": {
      "text/plain": [
       "False"
      ]
     },
     "execution_count": 78,
     "metadata": {},
     "output_type": "execute_result"
    }
   ],
   "source": [
    "# check for missing values although it is clear there are none\n",
    "train.isnull().any().any()"
   ]
  },
  {
   "cell_type": "code",
   "execution_count": 79,
   "id": "d6066c4f-30b6-4259-ae50-14695ab7f2ce",
   "metadata": {},
   "outputs": [
    {
     "data": {
      "text/plain": [
       "0"
      ]
     },
     "execution_count": 79,
     "metadata": {},
     "output_type": "execute_result"
    }
   ],
   "source": [
    "# duplicated function of pandas returns a duplicate row as true and others as false\n",
    "sum(train.duplicated())"
   ]
  },
  {
   "cell_type": "code",
   "execution_count": 80,
   "id": "983263fe-47e6-4d99-8079-b11aac39ac8d",
   "metadata": {},
   "outputs": [
    {
     "data": {
      "text/plain": [
       "Index(['class', 'BrdIndx', 'Area', 'Round', 'Bright', 'Compact', 'ShpIndx',\n",
       "       'Mean_G', 'Mean_R', 'Mean_NIR',\n",
       "       ...\n",
       "       'SD_NIR_140', 'LW_140', 'GLCM1_140', 'Rect_140', 'GLCM2_140',\n",
       "       'Dens_140', 'Assym_140', 'NDVI_140', 'BordLngth_140', 'GLCM3_140'],\n",
       "      dtype='object', length=148)"
      ]
     },
     "execution_count": 80,
     "metadata": {},
     "output_type": "execute_result"
    }
   ],
   "source": [
    "train.columns"
   ]
  },
  {
   "cell_type": "code",
   "execution_count": 81,
   "id": "b1dfa1a3-8941-4d3f-90c9-41ce1bafed2f",
   "metadata": {},
   "outputs": [
    {
     "data": {
      "text/plain": [
       "Index(['class', 'BrdIndx', 'Area', 'Round', 'Bright', 'Compact', 'ShpIndx',\n",
       "       'Mean_G', 'Mean_R', 'Mean_NIR',\n",
       "       ...\n",
       "       'SD_NIR_140', 'LW_140', 'GLCM1_140', 'Rect_140', 'GLCM2_140',\n",
       "       'Dens_140', 'Assym_140', 'NDVI_140', 'BordLngth_140', 'GLCM3_140'],\n",
       "      dtype='object', length=148)"
      ]
     },
     "execution_count": 81,
     "metadata": {},
     "output_type": "execute_result"
    }
   ],
   "source": [
    "test.columns"
   ]
  },
  {
   "cell_type": "code",
   "execution_count": 82,
   "id": "0a81d526-36be-4e8d-8fc6-da9a0274e570",
   "metadata": {},
   "outputs": [],
   "source": [
    "# Target variable\n",
    "Y_train = train[\"class\"].copy()\n",
    "Y_test  = test[\"class\"].copy()"
   ]
  },
  {
   "cell_type": "code",
   "execution_count": 83,
   "id": "d6e9c9ae-f1c7-411b-939b-b727e14d01d8",
   "metadata": {},
   "outputs": [
    {
     "data": {
      "text/plain": [
       "grass        29\n",
       "building     25\n",
       "concrete     23\n",
       "tree         17\n",
       "shadow       16\n",
       "car          15\n",
       "pool         15\n",
       "asphalt      14\n",
       "soil         14\n",
       "Name: class, dtype: int64"
      ]
     },
     "execution_count": 83,
     "metadata": {},
     "output_type": "execute_result"
    }
   ],
   "source": [
    "Y_train.value_counts()"
   ]
  },
  {
   "cell_type": "markdown",
   "id": "b87153ff-53aa-45bd-b65f-502917ff9bba",
   "metadata": {},
   "source": [
    "Y_test.value_counts()"
   ]
  },
  {
   "cell_type": "markdown",
   "id": "066d800d-cf36-41f1-948c-79fa6ced7ac8",
   "metadata": {},
   "source": []
  },
  {
   "cell_type": "markdown",
   "id": "041bacf1-691f-457b-908b-a7f36eb3a6d4",
   "metadata": {},
   "source": [
    "Feature Set 1: Columns 1 to 21 (No Scale)"
   ]
  },
  {
   "cell_type": "markdown",
   "id": "dc75b345-f2fb-4ff8-969f-d29c829c7c34",
   "metadata": {},
   "source": [
    "Feature Set 2: Columns 22 to 42 (Scale: 40)"
   ]
  },
  {
   "cell_type": "markdown",
   "id": "93634d95-eac2-4519-856f-58ee476af674",
   "metadata": {},
   "source": [
    "Feature Set 3: Columns 43 to 63 (Scale: 60)"
   ]
  },
  {
   "cell_type": "markdown",
   "id": "30545bc2-f47c-4022-ab9b-8eeaabab2874",
   "metadata": {},
   "source": [
    "Feature Set 4: Columns 64 to 84 (Scale: 80)"
   ]
  },
  {
   "cell_type": "markdown",
   "id": "0597ee0c-ad96-4c90-b436-f1bbb48e6049",
   "metadata": {},
   "source": [
    "Feature Set 5: Columns 85 to 105 (Scale: 100)"
   ]
  },
  {
   "cell_type": "markdown",
   "id": "4b588a0c-b072-4344-83e0-2c77957f1f14",
   "metadata": {},
   "source": [
    "Feature Set 6: Columns 106 to 126 (Scale: 120)"
   ]
  },
  {
   "cell_type": "markdown",
   "id": "171d3790-ea66-4ba5-9c2b-ed318a9ec5bd",
   "metadata": {},
   "source": [
    "Feature Set 7: Columns 127 to 147 (Scale: 140)"
   ]
  },
  {
   "cell_type": "code",
   "execution_count": 84,
   "id": "87e84215-b918-4d07-ae90-3f3013f63226",
   "metadata": {},
   "outputs": [
    {
     "data": {
      "text/plain": [
       "'class'"
      ]
     },
     "execution_count": 84,
     "metadata": {},
     "output_type": "execute_result"
    }
   ],
   "source": [
    "train.columns[0]"
   ]
  },
  {
   "cell_type": "code",
   "execution_count": 85,
   "id": "373340a9-327c-4579-b03c-fc3a76fc32e9",
   "metadata": {},
   "outputs": [],
   "source": [
    "#for i in range(7):\n",
    "#    origin = 20*i + i + 1\n",
    "#    destination = 20*i + i + 22\n",
    "#    print(range(origin,destination))\n",
    "#    for n in range(origin,destination):\n",
    "#        print(n)\n",
    "#        print(train.columns[n])"
   ]
  },
  {
   "cell_type": "code",
   "execution_count": 86,
   "id": "d9cb3593-d6f8-46b2-a92b-863dc54816b8",
   "metadata": {},
   "outputs": [
    {
     "name": "stdout",
     "output_type": "stream",
     "text": [
      "Index(['BrdIndx', 'Area', 'Round', 'Bright', 'Compact', 'ShpIndx', 'Mean_G',\n",
      "       'Mean_R', 'Mean_NIR', 'SD_G', 'SD_R', 'SD_NIR', 'LW', 'GLCM1', 'Rect',\n",
      "       'GLCM2', 'Dens', 'Assym', 'NDVI', 'BordLngth', 'GLCM3'],\n",
      "      dtype='object')\n",
      "Index(['BrdIndx', 'Area', 'Round', 'Bright', 'Compact', 'ShpIndx', 'Mean_G',\n",
      "       'Mean_R', 'Mean_NIR', 'SD_G', 'SD_R', 'SD_NIR', 'LW', 'GLCM1', 'Rect',\n",
      "       'GLCM2', 'Dens', 'Assym', 'NDVI', 'BordLngth', 'GLCM3'],\n",
      "      dtype='object')\n",
      "Index(['BrdIndx_40', 'Area_40', 'Round_40', 'Bright_40', 'Compact_40',\n",
      "       'ShpIndx_40', 'Mean_G_40', 'Mean_R_40', 'Mean_NIR_40', 'SD_G_40',\n",
      "       'SD_R_40', 'SD_NIR_40', 'LW_40', 'GLCM1_40', 'Rect_40', 'GLCM2_40',\n",
      "       'Dens_40', 'Assym_40', 'NDVI_40', 'BordLngth_40', 'GLCM3_40'],\n",
      "      dtype='object')\n",
      "Index(['BrdIndx_40', 'Area_40', 'Round_40', 'Bright_40', 'Compact_40',\n",
      "       'ShpIndx_40', 'Mean_G_40', 'Mean_R_40', 'Mean_NIR_40', 'SD_G_40',\n",
      "       'SD_R_40', 'SD_NIR_40', 'LW_40', 'GLCM1_40', 'Rect_40', 'GLCM2_40',\n",
      "       'Dens_40', 'Assym_40', 'NDVI_40', 'BordLngth_40', 'GLCM3_40'],\n",
      "      dtype='object')\n",
      "Index(['BrdIndx_60', 'Area_60', 'Round_60', 'Bright_60', 'Compact_60',\n",
      "       'ShpIndx_60', 'Mean_G_60', 'Mean_R_60', 'Mean_NIR_60', 'SD_G_60',\n",
      "       'SD_R_60', 'SD_NIR_60', 'LW_60', 'GLCM1_60', 'Rect_60', 'GLCM2_60',\n",
      "       'Dens_60', 'Assym_60', 'NDVI_60', 'BordLngth_60', 'GLCM3_60'],\n",
      "      dtype='object')\n",
      "Index(['BrdIndx_60', 'Area_60', 'Round_60', 'Bright_60', 'Compact_60',\n",
      "       'ShpIndx_60', 'Mean_G_60', 'Mean_R_60', 'Mean_NIR_60', 'SD_G_60',\n",
      "       'SD_R_60', 'SD_NIR_60', 'LW_60', 'GLCM1_60', 'Rect_60', 'GLCM2_60',\n",
      "       'Dens_60', 'Assym_60', 'NDVI_60', 'BordLngth_60', 'GLCM3_60'],\n",
      "      dtype='object')\n",
      "Index(['BrdIndx_80', 'Area_80', 'Round_80', 'Bright_80', 'Compact_80',\n",
      "       'ShpIndx_80', 'Mean_G_80', 'Mean_R_80', 'Mean_NIR_80', 'SD_G_80',\n",
      "       'SD_R_80', 'SD_NIR_80', 'LW_80', 'GLCM1_80', 'Rect_80', 'GLCM2_80',\n",
      "       'Dens_80', 'Assym_80', 'NDVI_80', 'BordLngth_80', 'GLCM3_80'],\n",
      "      dtype='object')\n",
      "Index(['BrdIndx_80', 'Area_80', 'Round_80', 'Bright_80', 'Compact_80',\n",
      "       'ShpIndx_80', 'Mean_G_80', 'Mean_R_80', 'Mean_NIR_80', 'SD_G_80',\n",
      "       'SD_R_80', 'SD_NIR_80', 'LW_80', 'GLCM1_80', 'Rect_80', 'GLCM2_80',\n",
      "       'Dens_80', 'Assym_80', 'NDVI_80', 'BordLngth_80', 'GLCM3_80'],\n",
      "      dtype='object')\n",
      "Index(['BrdIndx_100', 'Area_100', 'Round_100', 'Bright_100', 'Compact_100',\n",
      "       'ShpIndx_100', 'Mean_G_100', 'Mean_R_100', 'Mean_NIR_100', 'SD_G_100',\n",
      "       'SD_R_100', 'SD_NIR_100', 'LW_100', 'GLCM1_100', 'Rect_100',\n",
      "       'GLCM2_100', 'Dens_100', 'Assym_100', 'NDVI_100', 'BordLngth_100',\n",
      "       'GLCM3_100'],\n",
      "      dtype='object')\n",
      "Index(['BrdIndx_100', 'Area_100', 'Round_100', 'Bright_100', 'Compact_100',\n",
      "       'ShpIndx_100', 'Mean_G_100', 'Mean_R_100', 'Mean_NIR_100', 'SD_G_100',\n",
      "       'SD_R_100', 'SD_NIR_100', 'LW_100', 'GLCM1_100', 'Rect_100',\n",
      "       'GLCM2_100', 'Dens_100', 'Assym_100', 'NDVI_100', 'BordLngth_100',\n",
      "       'GLCM3_100'],\n",
      "      dtype='object')\n",
      "Index(['BrdIndx_120', 'Area_120', 'Round_120', 'Bright_120', 'Compact_120',\n",
      "       'ShpIndx_120', 'Mean_G_120', 'Mean_R_120', 'Mean_NIR_120', 'SD_G_120',\n",
      "       'SD_R_120', 'SD_NIR_120', 'LW_120', 'GLCM1_120', 'Rect_120',\n",
      "       'GLCM2_120', 'Dens_120', 'Assym_120', 'NDVI_120', 'BordLngth_120',\n",
      "       'GLCM3_120'],\n",
      "      dtype='object')\n",
      "Index(['BrdIndx_120', 'Area_120', 'Round_120', 'Bright_120', 'Compact_120',\n",
      "       'ShpIndx_120', 'Mean_G_120', 'Mean_R_120', 'Mean_NIR_120', 'SD_G_120',\n",
      "       'SD_R_120', 'SD_NIR_120', 'LW_120', 'GLCM1_120', 'Rect_120',\n",
      "       'GLCM2_120', 'Dens_120', 'Assym_120', 'NDVI_120', 'BordLngth_120',\n",
      "       'GLCM3_120'],\n",
      "      dtype='object')\n",
      "Index(['BrdIndx_140', 'Area_140', 'Round_140', 'Bright_140', 'Compact_140',\n",
      "       'ShpIndx_140', 'Mean_G_140', 'Mean_R_140', 'Mean_NIR_140', 'SD_G_140',\n",
      "       'SD_R_140', 'SD_NIR_140', 'LW_140', 'GLCM1_140', 'Rect_140',\n",
      "       'GLCM2_140', 'Dens_140', 'Assym_140', 'NDVI_140', 'BordLngth_140',\n",
      "       'GLCM3_140'],\n",
      "      dtype='object')\n",
      "Index(['BrdIndx_140', 'Area_140', 'Round_140', 'Bright_140', 'Compact_140',\n",
      "       'ShpIndx_140', 'Mean_G_140', 'Mean_R_140', 'Mean_NIR_140', 'SD_G_140',\n",
      "       'SD_R_140', 'SD_NIR_140', 'LW_140', 'GLCM1_140', 'Rect_140',\n",
      "       'GLCM2_140', 'Dens_140', 'Assym_140', 'NDVI_140', 'BordLngth_140',\n",
      "       'GLCM3_140'],\n",
      "      dtype='object')\n"
     ]
    }
   ],
   "source": [
    "for i in range(7):\n",
    "    origin = 20*i + i + 1\n",
    "    destination = 20*i + i + 22\n",
    "    #print(range(origin,destination))\n",
    "    #for n in range(origin,destination):\n",
    "    #    print(n)\n",
    "    #    print(train.columns[n])\n",
    "    X_train = train.iloc[:,range(origin,destination)]\n",
    "    X_test  = test.iloc[:,range(origin,destination)]\n",
    "    print(X_train.columns)\n",
    "    print(X_test.columns)"
   ]
  },
  {
   "cell_type": "code",
   "execution_count": 87,
   "id": "84028981-9c49-4f55-bbd0-24fd35b5bf02",
   "metadata": {},
   "outputs": [
    {
     "data": {
      "text/plain": [
       "((168, 20), (168,), (507, 20), (507,))"
      ]
     },
     "execution_count": 87,
     "metadata": {},
     "output_type": "execute_result"
    }
   ],
   "source": [
    "#Define the model and datasets for training and testing\n",
    "X_train = train.iloc[:,1:21]\n",
    "X_test  = test.iloc[:,1:21]\n",
    "X_train.shape, Y_train.shape, X_test.shape, Y_test.shape"
   ]
  },
  {
   "cell_type": "code",
   "execution_count": 88,
   "id": "316c6f85-33ef-4eca-85f2-08aad0eedfe1",
   "metadata": {},
   "outputs": [],
   "source": [
    "# dictionary to save results\n",
    "rf_results_model1 = {'index' : [], 'scale' : [], \n",
    "                     'accuracy' : [], 'error' : [],\n",
    "                     'cv_mean' : [], 'cv_std' : []}\n",
    "rf_results_model2 = {'index' : [], 'clf_best' : [], 'X_train' : [],'Y_train' : [],\n",
    "                     'X_test' : [], 'Y_test' : []}\n",
    "#Random Forest Classifier\n",
    "for i in range(7):\n",
    "    origin = 20*i + i + 1\n",
    "    destination = 20*i + i + 22\n",
    "    X_train = train.iloc[:,range(origin,destination)]\n",
    "    X_test  = test.iloc[:,range(origin,destination)]\n",
    "    the_scale = 20 * i + 20\n",
    "    if i == 0:\n",
    "        the_scale = \"NA\"\n",
    "    param_dist = {\n",
    "        \"max_depth\": [1, 2, 3, 4, 5, 6, 7, 8, 9, 10, None],\n",
    "        #\"max_features\": randint(1, 15),\n",
    "        \"max_features\": list(range(1,11,1)),  # sqrt(25)\n",
    "        \"max_samples\": [x / 10 for x in list(range(1,11,1))],\n",
    "        \"min_samples_split\": list(range(2,11,1)),\n",
    "        #\"bootstrap\": [True, False],\n",
    "        \"criterion\": [\"gini\", \"entropy\"],\n",
    "        \"n_estimators\": [5, 10, 50, 100, 500, 1000] # As long as possible\n",
    "    }\n",
    "\n",
    "    #Random Search of Best Parameters\n",
    "    rng = np.random.RandomState(0)\n",
    "    clf = RandomForestClassifier(random_state = rng)\n",
    "    rsh = HalvingRandomSearchCV(\n",
    "        estimator=clf, param_distributions=param_dist, factor=2, random_state=rng\n",
    "    )\n",
    "\n",
    "    # Fit the model\n",
    "    rsh.fit(X_train, Y_train)\n",
    "\n",
    "    #Display the best parameters\n",
    "    pars = str(rsh.best_params_)\n",
    "    pars = pars.replace(\",\", \",\\n\")\n",
    "\n",
    "    #Get the classifier with the best parameters\n",
    "    clf_best = rsh.best_estimator_\n",
    "    Y_hat = clf_best.predict(X_test)\n",
    "\n",
    "    # mean accuracy test dataset\n",
    "    the_accuracy = clf_best.score(X_test, Y_test)\n",
    "    #Classification Error (Testing Error Rate)\n",
    "    the_error = np.mean(Y_hat != Y_test)\n",
    "\n",
    "    #Evaluate the model with cross-validation (best model of random search)\n",
    "    #repeated stratitied k-fold with\n",
    "    #three repeats and 5 folds\n",
    "    cv = RepeatedStratifiedKFold(n_splits=5, n_repeats=3, random_state=1)\n",
    "    n_scores = cross_val_score(clf_best, X_train, Y_train, scoring='accuracy', cv=cv, n_jobs=-1, error_score='raise')\n",
    "    # report performance\n",
    "    #print('Accuracy: %.3f (%.3f)' % (mean(n_scores), std(n_scores)))\n",
    "    the_mean_accuracy = np.mean(n_scores)\n",
    "    the_std_accuracy = np.std(n_scores)\n",
    "    \n",
    "    #Save results in dictionary    \n",
    "    rf_results_model1['index'].append(i)\n",
    "    rf_results_model1['scale'].append(the_scale)\n",
    "    #rf_results_model1['clf_best'].append(clf_best)\n",
    "    #rf_results_model1['X_train'].append(X_train)\n",
    "    #rf_results_model1['Y_train'].append(Y_train)\n",
    "    #rf_results_model1['X_test'].append(X_test)\n",
    "    #rf_results_model1['Y_test'].append(Y_test)\n",
    "    rf_results_model1['accuracy'].append(the_accuracy)\n",
    "    rf_results_model1['error'].append(the_error)\n",
    "    rf_results_model1['cv_mean'].append(the_mean_accuracy)\n",
    "    rf_results_model1['cv_std'].append(the_std_accuracy)\n",
    "    #\n",
    "    rf_results_model2['index'].append(i)\n",
    "    rf_results_model2['clf_best'].append(clf_best)\n",
    "    rf_results_model2['X_train'].append(X_train)\n",
    "    rf_results_model2['Y_train'].append(Y_train)\n",
    "    rf_results_model2['X_test'].append(X_test)\n",
    "    rf_results_model2['Y_test'].append(Y_test)\n",
    "    "
   ]
  },
  {
   "cell_type": "code",
   "execution_count": 89,
   "id": "5faa215b-d021-4edd-bdd3-43cb1e9009b2",
   "metadata": {},
   "outputs": [
    {
     "name": "stdout",
     "output_type": "stream",
     "text": [
      "index\n",
      "[0, 1, 2, 3, 4, 5, 6]\n",
      "scale\n",
      "['NA', 40, 60, 80, 100, 120, 140]\n",
      "accuracy\n",
      "[0.5009861932938856, 0.571992110453649, 0.534516765285996, 0.5088757396449705, 0.6429980276134122, 0.5187376725838264, 0.5029585798816568]\n",
      "error\n",
      "[0.4990138067061144, 0.4280078895463511, 0.46548323471400394, 0.4911242603550296, 0.35700197238658776, 0.4812623274161736, 0.4970414201183432]\n",
      "cv_mean\n",
      "[0.5773024361259655, 0.5693998811645871, 0.5775401069518717, 0.603149138443256, 0.555496137849079, 0.5651812240047533, 0.5651812240047533]\n",
      "cv_std\n",
      "[0.06540332348762962, 0.08114261779126268, 0.06733156191552854, 0.04908326948801505, 0.08591816792923844, 0.052426690662121335, 0.052426690662121335]\n"
     ]
    }
   ],
   "source": [
    "# print each data item in dic rf_results_model1\n",
    "for key, value in rf_results_model1.items():\n",
    "    #index, scale, accuracy, error, mean, std = value\n",
    "    #print (\"{:<10} {:<10} {:<10} {:<10} {:<10} {:<10}\".format(index, scale, accuracy, error, mean, std))\n",
    "    print(key)\n",
    "    print(value)"
   ]
  },
  {
   "cell_type": "code",
   "execution_count": 90,
   "id": "382088d6-38cb-4c33-bade-c7cd9d1c34a9",
   "metadata": {},
   "outputs": [],
   "source": [
    "# print each data item in dic rf_results_model2\n",
    "#for key, value in rf_results_model2.items():\n",
    "#    print(key)\n",
    "#    print(value)"
   ]
  },
  {
   "cell_type": "code",
   "execution_count": 91,
   "id": "15240604-586b-4f2d-83fd-6553131e0bc6",
   "metadata": {},
   "outputs": [
    {
     "data": {
      "text/plain": [
       "(4, 100, 0.6429980276134122)"
      ]
     },
     "execution_count": 91,
     "metadata": {},
     "output_type": "execute_result"
    }
   ],
   "source": [
    "#\n",
    "#Index of the MAX accuracy element in a dictionary\n",
    "the_index = rf_results_model1['accuracy'].index(max(rf_results_model1['accuracy']))\n",
    "the_scale = rf_results_model1['scale'][the_index]\n",
    "the_accuracy = rf_results_model1['accuracy'][the_index]\n",
    "the_index, the_scale, the_accuracy"
   ]
  },
  {
   "cell_type": "code",
   "execution_count": 92,
   "id": "a284f4df-9475-4d1a-a58d-be8404c08194",
   "metadata": {},
   "outputs": [],
   "source": [
    "# From the best model, get feature importance\n",
    "clf_best = rf_results_model2['clf_best'][the_index]\n",
    "X_train = rf_results_model2['X_train'][the_index]\n",
    "Y_train = rf_results_model2['Y_train'][the_index]\n",
    "X_test = rf_results_model2['X_test'][the_index]\n",
    "Y_test = rf_results_model2['Y_test'][the_index]"
   ]
  },
  {
   "cell_type": "code",
   "execution_count": 93,
   "id": "5c34a2a1-e978-41a5-950d-722f8d3f4487",
   "metadata": {},
   "outputs": [],
   "source": [
    "# Extract single tree\n",
    "estimator = clf_best.estimators_[0]"
   ]
  },
  {
   "cell_type": "code",
   "execution_count": 94,
   "id": "6d09b0ae-e60f-4658-b92f-e3d02379d9eb",
   "metadata": {},
   "outputs": [
    {
     "data": {
      "text/plain": [
       "DecisionTreeClassifier(criterion='entropy', max_depth=2, max_features=7,\n",
       "                       min_samples_split=4, random_state=209652396)"
      ]
     },
     "execution_count": 94,
     "metadata": {},
     "output_type": "execute_result"
    }
   ],
   "source": [
    "estimator"
   ]
  },
  {
   "cell_type": "code",
   "execution_count": 95,
   "id": "3cbdc53b-c6f1-46a0-a21e-cd203768379d",
   "metadata": {},
   "outputs": [
    {
     "data": {
      "text/plain": [
       "Index(['BrdIndx_100', 'Area_100', 'Round_100', 'Bright_100', 'Compact_100',\n",
       "       'ShpIndx_100', 'Mean_G_100', 'Mean_R_100', 'Mean_NIR_100', 'SD_G_100',\n",
       "       'SD_R_100', 'SD_NIR_100', 'LW_100', 'GLCM1_100', 'Rect_100',\n",
       "       'GLCM2_100', 'Dens_100', 'Assym_100', 'NDVI_100', 'BordLngth_100',\n",
       "       'GLCM3_100'],\n",
       "      dtype='object')"
      ]
     },
     "execution_count": 95,
     "metadata": {},
     "output_type": "execute_result"
    }
   ],
   "source": [
    "X_train.columns"
   ]
  },
  {
   "cell_type": "code",
   "execution_count": 96,
   "id": "0501926e-1a6a-48f6-8ea2-f483154096b0",
   "metadata": {},
   "outputs": [
    {
     "data": {
      "text/plain": [
       "'class'"
      ]
     },
     "execution_count": 96,
     "metadata": {},
     "output_type": "execute_result"
    }
   ],
   "source": [
    "Y_train.name"
   ]
  },
  {
   "cell_type": "code",
   "execution_count": 97,
   "id": "e3736a60-8d2b-4049-a559-61d6f4801e1c",
   "metadata": {},
   "outputs": [],
   "source": [
    "# Export as dot file\n",
    "#export_graphviz(estimator, out_file='./out/one_tree.dot', \n",
    "#                feature_names = X_train.columns,\n",
    "#                class_names = Y_train.name,\n",
    "#                rounded = True, proportion = False, \n",
    "#                precision = 2, filled = True)"
   ]
  },
  {
   "cell_type": "code",
   "execution_count": 98,
   "id": "2eaa9a42-9940-4f6f-a2f7-a5448a78b0cb",
   "metadata": {},
   "outputs": [],
   "source": [
    "# Convert to png using system command (requires Graphviz)\n",
    "#call(['dot', '-Tpng', './out/one_tree.dot', '-o', './out/one_tree.png', '-Gdpi=600'])"
   ]
  },
  {
   "cell_type": "code",
   "execution_count": 99,
   "id": "237fc9ee-417d-4e50-9215-20b250589aa3",
   "metadata": {},
   "outputs": [],
   "source": [
    "# Display in jupyter notebook\n",
    "#Image(filename = './out/one_tree.png')"
   ]
  },
  {
   "cell_type": "code",
   "execution_count": 100,
   "id": "b627ce5d-68fe-42ed-b89c-b206e5d75c1c",
   "metadata": {},
   "outputs": [
    {
     "name": "stdout",
     "output_type": "stream",
     "text": [
      "Elapsed time to compute the importances: 0.020 seconds\n"
     ]
    }
   ],
   "source": [
    "# Features Importance - MDI\n",
    "#Feature importance based on Mean Decrease in Impurity\n",
    "#Feature importances are provided by the fitted attribute \n",
    "# feature_importances_ and they are computed as the mean and \n",
    "# standard deviation of accumulation of the impurity decrease \n",
    "# within each tree.\n",
    "\n",
    "\n",
    "start_time = time.time()\n",
    "importances = clf_best.feature_importances_\n",
    "std = np.std([tree.feature_importances_ for tree in clf_best.estimators_], axis=0)\n",
    "elapsed_time = time.time() - start_time\n",
    "\n",
    "print(f\"Elapsed time to compute the importances: {elapsed_time:.3f} seconds\")"
   ]
  },
  {
   "cell_type": "code",
   "execution_count": 101,
   "id": "1a42e5ff-1acd-40c7-903a-f0b63ad7e14c",
   "metadata": {},
   "outputs": [
    {
     "data": {
      "image/png": "[encoded data removed]",
      "text/plain": [
       "<Figure size 432x288 with 1 Axes>"
      ]
     },
     "metadata": {
      "needs_background": "light"
     },
     "output_type": "display_data"
    }
   ],
   "source": [
    "forest_importances = pd.Series(importances, index=X_train.columns)\n",
    "\n",
    "fig, ax = plt.subplots()\n",
    "forest_importances.plot.bar(yerr=std, ax=ax)\n",
    "ax.set_title(\"Feature importances using MDI\")\n",
    "ax.set_ylabel(\"Mean decrease in impurity\")\n",
    "fig.tight_layout()"
   ]
  },
  {
   "cell_type": "code",
   "execution_count": 102,
   "id": "7f1a549a-a8c3-4861-b009-edf27e3fe7f8",
   "metadata": {},
   "outputs": [
    {
     "name": "stdout",
     "output_type": "stream",
     "text": [
      "Elapsed time to compute the importances: 3.858 seconds\n"
     ]
    }
   ],
   "source": [
    "#Feature importance - FEATURE PERMUTATION\n",
    "#Feature importance based on feature permutation\n",
    "#Permutation feature importance overcomes limitations \n",
    "# of the impurity-based feature importance: they do not \n",
    "# have a bias toward high-cardinality features and can \n",
    "# be computed on a left-out test set.\n",
    "start_time = time.time()\n",
    "result = permutation_importance(\n",
    "    clf_best, X_test, Y_test, n_repeats=10, random_state=42, n_jobs=2\n",
    ")\n",
    "elapsed_time = time.time() - start_time\n",
    "print(f\"Elapsed time to compute the importances: {elapsed_time:.3f} seconds\")\n",
    "\n",
    "forest_importances = pd.Series(result.importances_mean, index=X_train.columns)"
   ]
  },
  {
   "cell_type": "code",
   "execution_count": 103,
   "id": "120cf02d-dea9-48cd-b7cb-d91b81ec5e76",
   "metadata": {},
   "outputs": [
    {
     "data": {
      "image/png": "[encoded data removed]",
      "text/plain": [
       "<Figure size 432x288 with 1 Axes>"
      ]
     },
     "metadata": {
      "needs_background": "light"
     },
     "output_type": "display_data"
    }
   ],
   "source": [
    "# The computation for full permutation importance is \n",
    "# more costly. Features are shuffled n times and the \n",
    "# model refitted to estimate the importance of it\n",
    "fig, ax = plt.subplots()\n",
    "forest_importances.plot.bar(yerr=result.importances_std, ax=ax)\n",
    "ax.set_title(\"Feature importances using permutation on full model\")\n",
    "ax.set_ylabel(\"Mean accuracy decrease\")\n",
    "fig.tight_layout()\n",
    "plt.show()\n",
    "#Although the relative importances vary. As seen on the plots, \n",
    "# MDI is less likely than permutation importance to fully omit a feature."
   ]
  },
  {
   "cell_type": "code",
   "execution_count": null,
   "id": "3653b3bc-078c-4c15-af19-6a91d5f85685",
   "metadata": {},
   "outputs": [],
   "source": []
  }
 ],
 "metadata": {
  "kernelspec": {
   "display_name": "Python 3 (ipykernel)",
   "language": "python",
   "name": "python3"
  },
  "language_info": {
   "codemirror_mode": {
    "name": "ipython",
    "version": 3
   },
   "file_extension": ".py",
   "mimetype": "text/x-python",
   "name": "python",
   "nbconvert_exporter": "python",
   "pygments_lexer": "ipython3",
   "version": "3.8.8"
  }
 },
 "nbformat": 4,
 "nbformat_minor": 5
}
