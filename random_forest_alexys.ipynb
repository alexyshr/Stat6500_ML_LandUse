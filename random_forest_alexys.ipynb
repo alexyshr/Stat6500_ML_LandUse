{
 "cells": [
  {
   "cell_type": "code",
   "execution_count": 115,
   "id": "a3662b7f-069f-4a91-89ad-8a6ea92910b0",
   "metadata": {},
   "outputs": [],
   "source": [
    "import pandas as pd\n",
    "import numpy as np\n",
    "import os\n",
    "from statistics import mean\n",
    "# Machine Learning Libraries\n",
    "from sklearn.ensemble import RandomForestClassifier\n",
    "# Randomized Search of Hyperparameters\n",
    "from scipy.stats import randint\n",
    "from sklearn.experimental import enable_halving_search_cv  # noqa\n",
    "from sklearn.model_selection import HalvingRandomSearchCV\n",
    "\n",
    "# Analysis of accuracy\n",
    "from sklearn import metrics\n",
    "from sklearn.metrics import accuracy_score\n",
    "from sklearn.metrics import classification_report, confusion_matrix\n",
    "# Export the tree\n",
    "from sklearn.tree import export_graphviz\n",
    "# Convert to png using system command\n",
    "from subprocess import call\n",
    "\n",
    "# Feature Importance\n",
    "from sklearn.inspection import permutation_importance\n",
    "\n",
    "# Import and image to jupyter notebook\n",
    "from IPython.display import Image\n",
    "import time\n",
    "#Work with plots\n",
    "import matplotlib.pyplot as plt\n",
    "\n",
    "# Training and testing sampling\n",
    "# to ensure sam proportion of samples\n",
    "# in trainign and testing compared\n",
    "# with the whole dataset proportion\n",
    "from sklearn.model_selection import train_test_split\n",
    "from collections import Counter\n",
    "\n",
    "# Cross validation\n",
    "from sklearn.model_selection import cross_val_score\n",
    "from sklearn.model_selection import RepeatedStratifiedKFold\n",
    "\n",
    "# Scale Data\n",
    "from sklearn.preprocessing import StandardScaler,MinMaxScaler"
   ]
  },
  {
   "cell_type": "code",
   "execution_count": 116,
   "id": "05703d54-1b5b-4aaa-a151-543432d89366",
   "metadata": {},
   "outputs": [
    {
     "name": "stdout",
     "output_type": "stream",
     "text": [
      "     BrdIndx  Area\n",
      "0       1.27    91\n",
      "1       2.36   241\n",
      "2       2.12   266\n",
      "3       2.42   399\n",
      "4       2.15   944\n",
      "..       ...   ...\n",
      "163     1.43    39\n",
      "164     1.92   141\n",
      "165     2.97   252\n",
      "166     1.57   216\n",
      "167     2.12   836\n",
      "\n",
      "[168 rows x 2 columns]\n"
     ]
    }
   ],
   "source": [
    "#Data\n",
    "dirname = os.getcwd()\n",
    "train_csv = os.path.join(dirname, \"training.csv\")\n",
    "missing_values = [\"n/a\", \"na\", \"--\"]\n",
    "train = pd.read_csv(train_csv, na_values = missing_values)\n",
    "testing_csv = os.path.join(dirname, \"testing.csv\")\n",
    "test = pd.read_csv(testing_csv, na_values = missing_values)\n",
    "print (train.iloc[:, [1,2]])"
   ]
  },
  {
   "cell_type": "code",
   "execution_count": 117,
   "id": "7a4ba6b9-4257-4700-8c13-facf91029384",
   "metadata": {},
   "outputs": [
    {
     "name": "stdout",
     "output_type": "stream",
     "text": [
      "Rows and Columns(Train):  (168, 148)\n",
      "Rows and Columns(Test) :  (507, 148)\n"
     ]
    }
   ],
   "source": [
    "print(\"Rows and Columns(Train): \",train.shape)\n",
    "print(\"Rows and Columns(Test) : \",test.shape)"
   ]
  },
  {
   "cell_type": "code",
   "execution_count": 118,
   "id": "bf4d89de-bad3-43c1-b3b9-aab43290275c",
   "metadata": {},
   "outputs": [
    {
     "data": {
      "text/plain": [
       "False"
      ]
     },
     "execution_count": 118,
     "metadata": {},
     "output_type": "execute_result"
    }
   ],
   "source": [
    "# check for missing values although it is clear there are none\n",
    "train.isnull().any().any()"
   ]
  },
  {
   "cell_type": "code",
   "execution_count": 119,
   "id": "d6066c4f-30b6-4259-ae50-14695ab7f2ce",
   "metadata": {},
   "outputs": [
    {
     "data": {
      "text/plain": [
       "0"
      ]
     },
     "execution_count": 119,
     "metadata": {},
     "output_type": "execute_result"
    }
   ],
   "source": [
    "# duplicated function of pandas returns a duplicate row as true and others as false\n",
    "sum(train.duplicated())"
   ]
  },
  {
   "cell_type": "code",
   "execution_count": 120,
   "id": "983263fe-47e6-4d99-8079-b11aac39ac8d",
   "metadata": {},
   "outputs": [
    {
     "data": {
      "text/plain": [
       "Index(['class', 'BrdIndx', 'Area', 'Round', 'Bright', 'Compact', 'ShpIndx',\n",
       "       'Mean_G', 'Mean_R', 'Mean_NIR',\n",
       "       ...\n",
       "       'SD_NIR_140', 'LW_140', 'GLCM1_140', 'Rect_140', 'GLCM2_140',\n",
       "       'Dens_140', 'Assym_140', 'NDVI_140', 'BordLngth_140', 'GLCM3_140'],\n",
       "      dtype='object', length=148)"
      ]
     },
     "execution_count": 120,
     "metadata": {},
     "output_type": "execute_result"
    }
   ],
   "source": [
    "train.columns"
   ]
  },
  {
   "cell_type": "code",
   "execution_count": 121,
   "id": "b1dfa1a3-8941-4d3f-90c9-41ce1bafed2f",
   "metadata": {},
   "outputs": [
    {
     "data": {
      "text/plain": [
       "Index(['class', 'BrdIndx', 'Area', 'Round', 'Bright', 'Compact', 'ShpIndx',\n",
       "       'Mean_G', 'Mean_R', 'Mean_NIR',\n",
       "       ...\n",
       "       'SD_NIR_140', 'LW_140', 'GLCM1_140', 'Rect_140', 'GLCM2_140',\n",
       "       'Dens_140', 'Assym_140', 'NDVI_140', 'BordLngth_140', 'GLCM3_140'],\n",
       "      dtype='object', length=148)"
      ]
     },
     "execution_count": 121,
     "metadata": {},
     "output_type": "execute_result"
    }
   ],
   "source": [
    "test.columns"
   ]
  },
  {
   "cell_type": "code",
   "execution_count": 122,
   "id": "0a81d526-36be-4e8d-8fc6-da9a0274e570",
   "metadata": {},
   "outputs": [],
   "source": [
    "# Target variable\n",
    "Y_train = train[\"class\"].copy()\n",
    "Y_test  = test[\"class\"].copy()"
   ]
  },
  {
   "cell_type": "code",
   "execution_count": 123,
   "id": "d6e9c9ae-f1c7-411b-939b-b727e14d01d8",
   "metadata": {},
   "outputs": [
    {
     "data": {
      "text/plain": [
       "grass        29\n",
       "building     25\n",
       "concrete     23\n",
       "tree         17\n",
       "shadow       16\n",
       "car          15\n",
       "pool         15\n",
       "asphalt      14\n",
       "soil         14\n",
       "Name: class, dtype: int64"
      ]
     },
     "execution_count": 123,
     "metadata": {},
     "output_type": "execute_result"
    }
   ],
   "source": [
    "Y_train.value_counts()"
   ]
  },
  {
   "cell_type": "markdown",
   "id": "b87153ff-53aa-45bd-b65f-502917ff9bba",
   "metadata": {},
   "source": [
    "Y_test.value_counts()"
   ]
  },
  {
   "cell_type": "markdown",
   "id": "066d800d-cf36-41f1-948c-79fa6ced7ac8",
   "metadata": {},
   "source": []
  },
  {
   "cell_type": "markdown",
   "id": "041bacf1-691f-457b-908b-a7f36eb3a6d4",
   "metadata": {},
   "source": [
    "Feature Set 1: Columns 1 to 21 (No Scale)"
   ]
  },
  {
   "cell_type": "markdown",
   "id": "dc75b345-f2fb-4ff8-969f-d29c829c7c34",
   "metadata": {},
   "source": [
    "Feature Set 2: Columns 22 to 42 (Scale: 40)"
   ]
  },
  {
   "cell_type": "markdown",
   "id": "93634d95-eac2-4519-856f-58ee476af674",
   "metadata": {},
   "source": [
    "Feature Set 3: Columns 43 to 63 (Scale: 60)"
   ]
  },
  {
   "cell_type": "markdown",
   "id": "30545bc2-f47c-4022-ab9b-8eeaabab2874",
   "metadata": {},
   "source": [
    "Feature Set 4: Columns 64 to 84 (Scale: 80)"
   ]
  },
  {
   "cell_type": "markdown",
   "id": "0597ee0c-ad96-4c90-b436-f1bbb48e6049",
   "metadata": {},
   "source": [
    "Feature Set 5: Columns 85 to 105 (Scale: 100)"
   ]
  },
  {
   "cell_type": "markdown",
   "id": "4b588a0c-b072-4344-83e0-2c77957f1f14",
   "metadata": {},
   "source": [
    "Feature Set 6: Columns 106 to 126 (Scale: 120)"
   ]
  },
  {
   "cell_type": "markdown",
   "id": "171d3790-ea66-4ba5-9c2b-ed318a9ec5bd",
   "metadata": {},
   "source": [
    "Feature Set 7: Columns 127 to 147 (Scale: 140)"
   ]
  },
  {
   "cell_type": "code",
   "execution_count": 124,
   "id": "87e84215-b918-4d07-ae90-3f3013f63226",
   "metadata": {},
   "outputs": [
    {
     "data": {
      "text/plain": [
       "'class'"
      ]
     },
     "execution_count": 124,
     "metadata": {},
     "output_type": "execute_result"
    }
   ],
   "source": [
    "train.columns[0]"
   ]
  },
  {
   "cell_type": "code",
   "execution_count": 125,
   "id": "373340a9-327c-4579-b03c-fc3a76fc32e9",
   "metadata": {},
   "outputs": [],
   "source": [
    "#for i in range(7):\n",
    "#    origin = 20*i + i + 1\n",
    "#    destination = 20*i + i + 22\n",
    "#    print(range(origin,destination))\n",
    "#    for n in range(origin,destination):\n",
    "#        print(n)\n",
    "#        print(train.columns[n])"
   ]
  },
  {
   "cell_type": "code",
   "execution_count": 126,
   "id": "d9cb3593-d6f8-46b2-a92b-863dc54816b8",
   "metadata": {},
   "outputs": [
    {
     "name": "stdout",
     "output_type": "stream",
     "text": [
      "Index(['BrdIndx', 'Area', 'Round', 'Bright', 'Compact', 'ShpIndx', 'Mean_G',\n",
      "       'Mean_R', 'Mean_NIR', 'SD_G', 'SD_R', 'SD_NIR', 'LW', 'GLCM1', 'Rect',\n",
      "       'GLCM2', 'Dens', 'Assym', 'NDVI', 'BordLngth', 'GLCM3'],\n",
      "      dtype='object')\n",
      "Index(['BrdIndx', 'Area', 'Round', 'Bright', 'Compact', 'ShpIndx', 'Mean_G',\n",
      "       'Mean_R', 'Mean_NIR', 'SD_G', 'SD_R', 'SD_NIR', 'LW', 'GLCM1', 'Rect',\n",
      "       'GLCM2', 'Dens', 'Assym', 'NDVI', 'BordLngth', 'GLCM3'],\n",
      "      dtype='object')\n",
      "Index(['BrdIndx_40', 'Area_40', 'Round_40', 'Bright_40', 'Compact_40',\n",
      "       'ShpIndx_40', 'Mean_G_40', 'Mean_R_40', 'Mean_NIR_40', 'SD_G_40',\n",
      "       'SD_R_40', 'SD_NIR_40', 'LW_40', 'GLCM1_40', 'Rect_40', 'GLCM2_40',\n",
      "       'Dens_40', 'Assym_40', 'NDVI_40', 'BordLngth_40', 'GLCM3_40'],\n",
      "      dtype='object')\n",
      "Index(['BrdIndx_40', 'Area_40', 'Round_40', 'Bright_40', 'Compact_40',\n",
      "       'ShpIndx_40', 'Mean_G_40', 'Mean_R_40', 'Mean_NIR_40', 'SD_G_40',\n",
      "       'SD_R_40', 'SD_NIR_40', 'LW_40', 'GLCM1_40', 'Rect_40', 'GLCM2_40',\n",
      "       'Dens_40', 'Assym_40', 'NDVI_40', 'BordLngth_40', 'GLCM3_40'],\n",
      "      dtype='object')\n",
      "Index(['BrdIndx_60', 'Area_60', 'Round_60', 'Bright_60', 'Compact_60',\n",
      "       'ShpIndx_60', 'Mean_G_60', 'Mean_R_60', 'Mean_NIR_60', 'SD_G_60',\n",
      "       'SD_R_60', 'SD_NIR_60', 'LW_60', 'GLCM1_60', 'Rect_60', 'GLCM2_60',\n",
      "       'Dens_60', 'Assym_60', 'NDVI_60', 'BordLngth_60', 'GLCM3_60'],\n",
      "      dtype='object')\n",
      "Index(['BrdIndx_60', 'Area_60', 'Round_60', 'Bright_60', 'Compact_60',\n",
      "       'ShpIndx_60', 'Mean_G_60', 'Mean_R_60', 'Mean_NIR_60', 'SD_G_60',\n",
      "       'SD_R_60', 'SD_NIR_60', 'LW_60', 'GLCM1_60', 'Rect_60', 'GLCM2_60',\n",
      "       'Dens_60', 'Assym_60', 'NDVI_60', 'BordLngth_60', 'GLCM3_60'],\n",
      "      dtype='object')\n",
      "Index(['BrdIndx_80', 'Area_80', 'Round_80', 'Bright_80', 'Compact_80',\n",
      "       'ShpIndx_80', 'Mean_G_80', 'Mean_R_80', 'Mean_NIR_80', 'SD_G_80',\n",
      "       'SD_R_80', 'SD_NIR_80', 'LW_80', 'GLCM1_80', 'Rect_80', 'GLCM2_80',\n",
      "       'Dens_80', 'Assym_80', 'NDVI_80', 'BordLngth_80', 'GLCM3_80'],\n",
      "      dtype='object')\n",
      "Index(['BrdIndx_80', 'Area_80', 'Round_80', 'Bright_80', 'Compact_80',\n",
      "       'ShpIndx_80', 'Mean_G_80', 'Mean_R_80', 'Mean_NIR_80', 'SD_G_80',\n",
      "       'SD_R_80', 'SD_NIR_80', 'LW_80', 'GLCM1_80', 'Rect_80', 'GLCM2_80',\n",
      "       'Dens_80', 'Assym_80', 'NDVI_80', 'BordLngth_80', 'GLCM3_80'],\n",
      "      dtype='object')\n",
      "Index(['BrdIndx_100', 'Area_100', 'Round_100', 'Bright_100', 'Compact_100',\n",
      "       'ShpIndx_100', 'Mean_G_100', 'Mean_R_100', 'Mean_NIR_100', 'SD_G_100',\n",
      "       'SD_R_100', 'SD_NIR_100', 'LW_100', 'GLCM1_100', 'Rect_100',\n",
      "       'GLCM2_100', 'Dens_100', 'Assym_100', 'NDVI_100', 'BordLngth_100',\n",
      "       'GLCM3_100'],\n",
      "      dtype='object')\n",
      "Index(['BrdIndx_100', 'Area_100', 'Round_100', 'Bright_100', 'Compact_100',\n",
      "       'ShpIndx_100', 'Mean_G_100', 'Mean_R_100', 'Mean_NIR_100', 'SD_G_100',\n",
      "       'SD_R_100', 'SD_NIR_100', 'LW_100', 'GLCM1_100', 'Rect_100',\n",
      "       'GLCM2_100', 'Dens_100', 'Assym_100', 'NDVI_100', 'BordLngth_100',\n",
      "       'GLCM3_100'],\n",
      "      dtype='object')\n",
      "Index(['BrdIndx_120', 'Area_120', 'Round_120', 'Bright_120', 'Compact_120',\n",
      "       'ShpIndx_120', 'Mean_G_120', 'Mean_R_120', 'Mean_NIR_120', 'SD_G_120',\n",
      "       'SD_R_120', 'SD_NIR_120', 'LW_120', 'GLCM1_120', 'Rect_120',\n",
      "       'GLCM2_120', 'Dens_120', 'Assym_120', 'NDVI_120', 'BordLngth_120',\n",
      "       'GLCM3_120'],\n",
      "      dtype='object')\n",
      "Index(['BrdIndx_120', 'Area_120', 'Round_120', 'Bright_120', 'Compact_120',\n",
      "       'ShpIndx_120', 'Mean_G_120', 'Mean_R_120', 'Mean_NIR_120', 'SD_G_120',\n",
      "       'SD_R_120', 'SD_NIR_120', 'LW_120', 'GLCM1_120', 'Rect_120',\n",
      "       'GLCM2_120', 'Dens_120', 'Assym_120', 'NDVI_120', 'BordLngth_120',\n",
      "       'GLCM3_120'],\n",
      "      dtype='object')\n",
      "Index(['BrdIndx_140', 'Area_140', 'Round_140', 'Bright_140', 'Compact_140',\n",
      "       'ShpIndx_140', 'Mean_G_140', 'Mean_R_140', 'Mean_NIR_140', 'SD_G_140',\n",
      "       'SD_R_140', 'SD_NIR_140', 'LW_140', 'GLCM1_140', 'Rect_140',\n",
      "       'GLCM2_140', 'Dens_140', 'Assym_140', 'NDVI_140', 'BordLngth_140',\n",
      "       'GLCM3_140'],\n",
      "      dtype='object')\n",
      "Index(['BrdIndx_140', 'Area_140', 'Round_140', 'Bright_140', 'Compact_140',\n",
      "       'ShpIndx_140', 'Mean_G_140', 'Mean_R_140', 'Mean_NIR_140', 'SD_G_140',\n",
      "       'SD_R_140', 'SD_NIR_140', 'LW_140', 'GLCM1_140', 'Rect_140',\n",
      "       'GLCM2_140', 'Dens_140', 'Assym_140', 'NDVI_140', 'BordLngth_140',\n",
      "       'GLCM3_140'],\n",
      "      dtype='object')\n"
     ]
    }
   ],
   "source": [
    "for i in range(7):\n",
    "    origin = 20*i + i + 1\n",
    "    destination = 20*i + i + 22\n",
    "    #print(range(origin,destination))\n",
    "    #for n in range(origin,destination):\n",
    "    #    print(n)\n",
    "    #    print(train.columns[n])\n",
    "    X_train = train.iloc[:,range(origin,destination)]\n",
    "    X_test  = test.iloc[:,range(origin,destination)]\n",
    "    print(X_train.columns)\n",
    "    print(X_test.columns)"
   ]
  },
  {
   "cell_type": "code",
   "execution_count": 127,
   "id": "84028981-9c49-4f55-bbd0-24fd35b5bf02",
   "metadata": {},
   "outputs": [
    {
     "data": {
      "text/plain": [
       "((168, 147), (168,), (507, 147), (507,))"
      ]
     },
     "execution_count": 127,
     "metadata": {},
     "output_type": "execute_result"
    }
   ],
   "source": [
    "#Define the model and datasets for training and testing (all features)\n",
    "X_train = train.iloc[:,1:148]\n",
    "X_test  = test.iloc[:,1:148]\n",
    "X_train.shape, Y_train.shape, X_test.shape, Y_test.shape"
   ]
  },
  {
   "cell_type": "code",
   "execution_count": 128,
   "id": "3822bfc4-f2b1-456d-a06a-7dbd399a6b79",
   "metadata": {},
   "outputs": [],
   "source": [
    "#Run Random Forest grid search with all features\n",
    "#No scaling\n",
    "param_dist = {\n",
    "    \"max_depth\": [1, 2, 3, 4, 5, 6, 7, 8, 9, 10, 11, 12, 13, 14, 15, None],\n",
    "    #\"max_features\": randint(1, 15),\n",
    "    \"max_features\": list(range(1,25,1)),  # sqrt(147)\n",
    "    \"max_samples\": [x / 10 for x in list(range(1,30,1))],\n",
    "    \"min_samples_split\": list(range(2,11,1)),\n",
    "    \"bootstrap\": [True, False],\n",
    "    \"criterion\": [\"gini\", \"entropy\"],\n",
    "    \"n_estimators\": [5, 10, 50, 100,500, 1000] # As long as possible\n",
    "}\n",
    "\n",
    "#Random Search of Best Parameters\n",
    "rng = np.random.RandomState(0)\n",
    "clf = RandomForestClassifier(random_state = rng)\n",
    "rsh = HalvingRandomSearchCV(\n",
    "    estimator=clf, param_distributions=param_dist, factor=2, random_state=rng\n",
    ")\n",
    "\n",
    "# Fit the model\n",
    "rsh.fit(X_train, Y_train)\n",
    "\n",
    "#Display the best parameters\n",
    "pars = str(rsh.best_params_)\n",
    "pars = pars.replace(\",\", \",\\n\")\n",
    "\n",
    "#Get the classifier with the best parameters\n",
    "clf_best = rsh.best_estimator_\n",
    "Y_hat = clf_best.predict(X_test)\n",
    "\n",
    "# mean accuracy test dataset\n",
    "the_accuracy1 = clf_best.score(X_test, Y_test)\n",
    "the_accuracy2 = accuracy_score(Y_hat, Y_test)\n",
    "#Classification Error (Testing Error Rate)\n",
    "the_error = np.mean(Y_hat != Y_test)\n",
    "\n",
    "#Evaluate the model with cross-validation (best model of random search)\n",
    "#repeated stratitied k-fold with\n",
    "#three repeats and 5 folds\n",
    "cv = RepeatedStratifiedKFold(n_splits=5, n_repeats=3, random_state=1)\n",
    "n_scores = cross_val_score(clf_best, X_train, Y_train, scoring='accuracy', cv=cv, n_jobs=-1, error_score='raise')\n",
    "# report performance\n",
    "#print('Accuracy: %.3f (%.3f)' % (mean(n_scores), std(n_scores)))\n",
    "the_mean_accuracy = np.mean(n_scores)\n",
    "the_std_accuracy = np.std(n_scores)\n"
   ]
  },
  {
   "cell_type": "code",
   "execution_count": 129,
   "id": "49134e9c-5163-4602-9005-f70258ad5f88",
   "metadata": {},
   "outputs": [
    {
     "data": {
      "text/plain": [
       "\"{'n_estimators': 1000,\\n 'min_samples_split': 4,\\n 'max_samples': 0.7,\\n 'max_features': 4,\\n 'max_depth': 9,\\n 'criterion': 'gini',\\n 'bootstrap': True}\""
      ]
     },
     "execution_count": 129,
     "metadata": {},
     "output_type": "execute_result"
    }
   ],
   "source": [
    "#Best Parameters\n",
    "#No scaling (All Features)\n",
    "pars"
   ]
  },
  {
   "cell_type": "code",
   "execution_count": 130,
   "id": "1e787fc0-455e-4dce-99f4-6f13e7d408c7",
   "metadata": {},
   "outputs": [
    {
     "name": "stdout",
     "output_type": "stream",
     "text": [
      "Accuracy1: 0.8205128205128205. Accuracy2: 0.8205128205128205. CV mean accuracy: 0.8472370766488414. CV std accuracy: 0.032387501203838244. Error: 0.1794871794871795\n"
     ]
    }
   ],
   "source": [
    "# Accuracy and error\n",
    "#No scaling (All Features)\n",
    "print(\"Accuracy1: %s. Accuracy2: %s. CV mean accuracy: %s. CV std accuracy: %s. Error: %s\" % (the_accuracy1, the_accuracy2, the_mean_accuracy, the_std_accuracy, the_error))"
   ]
  },
  {
   "cell_type": "code",
   "execution_count": 131,
   "id": "c4f6f4f8-d88d-4b9e-a6bd-00214f85e200",
   "metadata": {},
   "outputs": [],
   "source": [
    "# Accuracy\n",
    "#No scaling (All Features)\n",
    "the_accuracy_ns = the_accuracy1"
   ]
  },
  {
   "cell_type": "code",
   "execution_count": 132,
   "id": "424308f6-d01f-4b7c-b516-79449481dce3",
   "metadata": {},
   "outputs": [],
   "source": [
    "#Scale the data\n",
    "#All Features\n",
    "scaler = StandardScaler() #standardize data values into standard format\n",
    "X_train_std = scaler.fit_transform(X_train)\n",
    "X_test_std = scaler.transform(X_test)"
   ]
  },
  {
   "cell_type": "code",
   "execution_count": 133,
   "id": "54280ba7-bea8-4a29-a5f0-46356fcb56b0",
   "metadata": {},
   "outputs": [],
   "source": [
    "#Run Random Forest grid search with all features\n",
    "#Standard Scaling\n",
    "param_dist = {\n",
    "    \"max_depth\": [1, 2, 3, 4, 5, 6, 7, 8, 9, 10, 11, 12, 13, 14, 15, None],\n",
    "    #\"max_features\": randint(1, 15),\n",
    "    \"max_features\": list(range(1,25,1)),  # sqrt(147)\n",
    "    \"max_samples\": [x / 10 for x in list(range(1,30,1))],\n",
    "    \"min_samples_split\": list(range(2,11,1)),\n",
    "    \"bootstrap\": [True, False],\n",
    "    \"criterion\": [\"gini\", \"entropy\"],\n",
    "    \"n_estimators\": [5, 10, 50, 100,500, 1000] # As long as possible\n",
    "}\n",
    "\n",
    "#Random Search of Best Parameters\n",
    "rng = np.random.RandomState(0)\n",
    "clf = RandomForestClassifier(random_state = rng)\n",
    "rsh = HalvingRandomSearchCV(\n",
    "    estimator=clf, param_distributions=param_dist, factor=2, random_state=rng\n",
    ")\n",
    "\n",
    "# Fit the model\n",
    "rsh.fit(X_train_std, Y_train)\n",
    "\n",
    "#Display the best parameters\n",
    "pars = str(rsh.best_params_)\n",
    "pars = pars.replace(\",\", \",\\n\")\n",
    "\n",
    "#Get the classifier with the best parameters\n",
    "clf_best = rsh.best_estimator_\n",
    "Y_hat = clf_best.predict(X_test_std)\n",
    "\n",
    "# mean accuracy test dataset\n",
    "the_accuracy1 = clf_best.score(X_test_std, Y_test)\n",
    "the_accuracy2 = accuracy_score(Y_hat, Y_test)\n",
    "#Classification Error (Testing Error Rate)\n",
    "the_error = np.mean(Y_hat != Y_test)\n",
    "\n",
    "#Evaluate the model with cross-validation (best model of random search)\n",
    "#repeated stratitied k-fold with\n",
    "#three repeats and 5 folds\n",
    "cv = RepeatedStratifiedKFold(n_splits=5, n_repeats=3, random_state=1)\n",
    "n_scores = cross_val_score(clf_best, X_train_std, Y_train, scoring='accuracy', cv=cv, n_jobs=-1, error_score='raise')\n",
    "# report performance\n",
    "#print('Accuracy: %.3f (%.3f)' % (mean(n_scores), std(n_scores)))\n",
    "the_mean_accuracy = np.mean(n_scores)\n",
    "the_std_accuracy = np.std(n_scores)"
   ]
  },
  {
   "cell_type": "code",
   "execution_count": 134,
   "id": "389b52f3-84c8-4301-802c-089dda6aff86",
   "metadata": {},
   "outputs": [
    {
     "data": {
      "text/plain": [
       "\"{'n_estimators': 1000,\\n 'min_samples_split': 4,\\n 'max_samples': 0.7,\\n 'max_features': 4,\\n 'max_depth': 9,\\n 'criterion': 'gini',\\n 'bootstrap': True}\""
      ]
     },
     "execution_count": 134,
     "metadata": {},
     "output_type": "execute_result"
    }
   ],
   "source": [
    "#Best Parameters\n",
    "#Scale the data (All Features)\n",
    "pars"
   ]
  },
  {
   "cell_type": "code",
   "execution_count": 135,
   "id": "de567f58-faf1-431b-8781-3fcaf887918b",
   "metadata": {},
   "outputs": [
    {
     "name": "stdout",
     "output_type": "stream",
     "text": [
      "Accuracy1: 0.8224852071005917. Accuracy2: 0.8224852071005917. CV mean accuracy: 0.8452168746286394. CV std accuracy: 0.03318200956384219. Error: 0.17751479289940827\n"
     ]
    }
   ],
   "source": [
    "# Accuracy and error\n",
    "#Scale the data (All Features)\n",
    "print(\"Accuracy1: %s. Accuracy2: %s. CV mean accuracy: %s. CV std accuracy: %s. Error: %s\" % (the_accuracy1, the_accuracy2, the_mean_accuracy, the_std_accuracy, the_error))"
   ]
  },
  {
   "cell_type": "code",
   "execution_count": 136,
   "id": "994d31ff-df6c-4a05-bef6-3ddb98b8ee7c",
   "metadata": {},
   "outputs": [],
   "source": [
    "# Accuracy\n",
    "# Scaling (All Features)\n",
    "the_accuracy_s = the_accuracy1"
   ]
  },
  {
   "cell_type": "code",
   "execution_count": 137,
   "id": "78e8b0f3-2d20-4125-8def-122ff0f0c9b7",
   "metadata": {},
   "outputs": [
    {
     "data": {
      "image/png": "[encoded data removed]",
      "text/plain": [
       "<Figure size 1440x360 with 1 Axes>"
      ]
     },
     "metadata": {
      "needs_background": "light"
     },
     "output_type": "display_data"
    }
   ],
   "source": [
    "#Plot results All Features (Scaled vs Not Scaled Accuracy)\n",
    "fig = plt.figure(figsize=(20,5))\n",
    "plt.subplot(121)\n",
    "plt.plot([0, 1], [the_accuracy_ns, the_accuracy_s]); plt.xticks([0, 1], [\"No Scaling\", \"Scaling\"])\n",
    "plt.title(\"All Features Accuracy (Scaling Vs. No Scaling) \",fontsize = 15)\n",
    "plt.xlabel('Model',fontsize = 12)\n",
    "plt.xticks(rotation = 70)\n",
    "plt.ylabel('Accuracy',fontsize = 12)\n",
    "plt.show()"
   ]
  },
  {
   "cell_type": "code",
   "execution_count": 138,
   "id": "316c6f85-33ef-4eca-85f2-08aad0eedfe1",
   "metadata": {},
   "outputs": [],
   "source": [
    "# No Scaling the Data\n",
    "# This is RF for each Feature Set\n",
    "# dictionary to save results\n",
    "rf_results_model1 = {'index' : [], 'scale' : [], \n",
    "                     'accuracy' : [], 'error' : [],\n",
    "                     'cv_mean' : [], 'cv_std' : []}\n",
    "rf_results_model2 = {'index' : [], 'clf_best' : [], 'X_train' : [],'Y_train' : [],\n",
    "                     'X_test' : [], 'Y_test' : []}\n",
    "#Random Forest Classifier\n",
    "for i in range(7):\n",
    "    origin = 20*i + i + 1\n",
    "    destination = 20*i + i + 22\n",
    "    X_train = train.iloc[:,range(origin,destination)]\n",
    "    X_test  = test.iloc[:,range(origin,destination)]\n",
    "    the_scale = 20 * i + 20\n",
    "    #if i == 0:\n",
    "    #    the_scale = \"NA\"\n",
    "    param_dist = {\n",
    "        \"max_depth\": [1, 2, 3, 4, 5, 6, 7, 8, 9, 10, 11, 12, 13, 14, 15, None],\n",
    "        #\"max_features\": randint(1, 15),\n",
    "        \"max_features\": list(range(1,15,1)),  # sqrt(147)\n",
    "        \"max_samples\": [x / 10 for x in list(range(1,30,1))],\n",
    "        \"min_samples_split\": list(range(2,11,1)),\n",
    "        #\"bootstrap\": [True, False],\n",
    "        \"criterion\": [\"gini\", \"entropy\"],\n",
    "        \"n_estimators\": [5, 10, 50, 100, 500, 1000] # As long as possible\n",
    "    }\n",
    "\n",
    "    #Random Search of Best Parameters\n",
    "    rng = np.random.RandomState(0)\n",
    "    clf = RandomForestClassifier(random_state = rng)\n",
    "    rsh = HalvingRandomSearchCV(\n",
    "        estimator=clf, param_distributions=param_dist, factor=2, random_state=rng\n",
    "    )\n",
    "\n",
    "    # Fit the model\n",
    "    rsh.fit(X_train, Y_train)\n",
    "\n",
    "    #Display the best parameters\n",
    "    pars = str(rsh.best_params_)\n",
    "    pars = pars.replace(\",\", \",\\n\")\n",
    "\n",
    "    #Get the classifier with the best parameters\n",
    "    clf_best = rsh.best_estimator_\n",
    "    Y_hat = clf_best.predict(X_test)\n",
    "\n",
    "    # mean accuracy test dataset\n",
    "    the_accuracy = clf_best.score(X_test, Y_test)\n",
    "    #Classification Error (Testing Error Rate)\n",
    "    the_error = np.mean(Y_hat != Y_test)\n",
    "\n",
    "    #Evaluate the model with cross-validation (best model of random search)\n",
    "    #repeated stratitied k-fold with\n",
    "    #three repeats and 5 folds\n",
    "    cv = RepeatedStratifiedKFold(n_splits=5, n_repeats=3, random_state=1)\n",
    "    n_scores = cross_val_score(clf_best, X_train, Y_train, scoring='accuracy', cv=cv, n_jobs=-1, error_score='raise')\n",
    "    # report performance\n",
    "    #print('Accuracy: %.3f (%.3f)' % (mean(n_scores), std(n_scores)))\n",
    "    the_mean_accuracy = np.mean(n_scores)\n",
    "    the_std_accuracy = np.std(n_scores)\n",
    "    \n",
    "    #Save results in dictionary    \n",
    "    rf_results_model1['index'].append(i)\n",
    "    rf_results_model1['scale'].append(the_scale)\n",
    "    #rf_results_model1['clf_best'].append(clf_best)\n",
    "    #rf_results_model1['X_train'].append(X_train)\n",
    "    #rf_results_model1['Y_train'].append(Y_train)\n",
    "    #rf_results_model1['X_test'].append(X_test)\n",
    "    #rf_results_model1['Y_test'].append(Y_test)\n",
    "    rf_results_model1['accuracy'].append(the_accuracy)\n",
    "    rf_results_model1['error'].append(the_error)\n",
    "    rf_results_model1['cv_mean'].append(the_mean_accuracy)\n",
    "    rf_results_model1['cv_std'].append(the_std_accuracy)\n",
    "    #\n",
    "    rf_results_model2['index'].append(i)\n",
    "    rf_results_model2['clf_best'].append(clf_best)\n",
    "    rf_results_model2['X_train'].append(X_train)\n",
    "    rf_results_model2['Y_train'].append(Y_train)\n",
    "    rf_results_model2['X_test'].append(X_test)\n",
    "    rf_results_model2['Y_test'].append(Y_test)\n",
    "    "
   ]
  },
  {
   "cell_type": "code",
   "execution_count": 139,
   "id": "c1c6063a-0a6b-4b55-ad1a-5c48a8092b23",
   "metadata": {},
   "outputs": [],
   "source": [
    "# Scaling the data\n",
    "# This is RF for each Feature Set\n",
    "# dictionary to save results\n",
    "rf_results_model3 = {'index' : [], 'scale' : [], \n",
    "                     'accuracy' : [], 'error' : [],\n",
    "                     'cv_mean' : [], 'cv_std' : []}\n",
    "rf_results_model4 = {'index' : [], 'clf_best' : [], 'X_train' : [],'Y_train' : [],\n",
    "                     'X_test' : [], 'Y_test' : []}\n",
    "#Random Forest Classifier\n",
    "for i in range(7):\n",
    "    origin = 20*i + i + 1\n",
    "    destination = 20*i + i + 22\n",
    "    X_train = train.iloc[:,range(origin,destination)]\n",
    "    X_test  = test.iloc[:,range(origin,destination)]\n",
    "    scaler = StandardScaler() #standardize data values into standard format\n",
    "    X_train_std = scaler.fit_transform(X_train)\n",
    "    X_test_std = scaler.transform(X_test)\n",
    "    the_scale = 20 * i + 20\n",
    "    #if i == 0:\n",
    "    #    the_scale = \"NA\"\n",
    "    param_dist = {\n",
    "        \"max_depth\": [1, 2, 3, 4, 5, 6, 7, 8, 9, 10, 11, 12, 13, 14, 15, None],\n",
    "        #\"max_features\": randint(1, 15),\n",
    "        \"max_features\": list(range(1,15,1)),  # sqrt(147)\n",
    "        \"max_samples\": [x / 10 for x in list(range(1,30,1))],\n",
    "        \"min_samples_split\": list(range(2,11,1)),\n",
    "        #\"bootstrap\": [True, False],\n",
    "        \"criterion\": [\"gini\", \"entropy\"],\n",
    "        \"n_estimators\": [5, 10, 50, 100, 500, 1000] # As long as possible\n",
    "    }\n",
    "\n",
    "    #Random Search of Best Parameters\n",
    "    rng = np.random.RandomState(0)\n",
    "    clf = RandomForestClassifier(random_state = rng)\n",
    "    rsh = HalvingRandomSearchCV(\n",
    "        estimator=clf, param_distributions=param_dist, factor=2, random_state=rng\n",
    "    )\n",
    "\n",
    "    # Fit the model\n",
    "    rsh.fit(X_train_std, Y_train)\n",
    "\n",
    "    #Display the best parameters\n",
    "    pars = str(rsh.best_params_)\n",
    "    pars = pars.replace(\",\", \",\\n\")\n",
    "\n",
    "    #Get the classifier with the best parameters\n",
    "    clf_best = rsh.best_estimator_\n",
    "    Y_hat = clf_best.predict(X_test_std)\n",
    "\n",
    "    # mean accuracy test dataset\n",
    "    the_accuracy = clf_best.score(X_test_std, Y_test)\n",
    "    #Classification Error (Testing Error Rate)\n",
    "    the_error = np.mean(Y_hat != Y_test)\n",
    "\n",
    "    #Evaluate the model with cross-validation (best model of random search)\n",
    "    #repeated stratitied k-fold with\n",
    "    #three repeats and 5 folds\n",
    "    cv = RepeatedStratifiedKFold(n_splits=5, n_repeats=3, random_state=1)\n",
    "    n_scores = cross_val_score(clf_best, X_train_std, Y_train, scoring='accuracy', cv=cv, n_jobs=-1, error_score='raise')\n",
    "    # report performance\n",
    "    #print('Accuracy: %.3f (%.3f)' % (mean(n_scores), std(n_scores)))\n",
    "    the_mean_accuracy = np.mean(n_scores)\n",
    "    the_std_accuracy = np.std(n_scores)\n",
    "    \n",
    "    #Save results in dictionary    \n",
    "    rf_results_model3['index'].append(i)\n",
    "    rf_results_model3['scale'].append(the_scale)\n",
    "    #rf_results_model3['clf_best'].append(clf_best)\n",
    "    #rf_results_model3['X_train'].append(X_train_std)\n",
    "    #rf_results_model3['Y_train'].append(Y_train)\n",
    "    #rf_results_model3['X_test'].append(X_test_std)\n",
    "    #rf_results_model3['Y_test'].append(Y_test)\n",
    "    rf_results_model3['accuracy'].append(the_accuracy)\n",
    "    rf_results_model3['error'].append(the_error)\n",
    "    rf_results_model3['cv_mean'].append(the_mean_accuracy)\n",
    "    rf_results_model3['cv_std'].append(the_std_accuracy)\n",
    "    #\n",
    "    rf_results_model4['index'].append(i)\n",
    "    rf_results_model4['clf_best'].append(clf_best)\n",
    "    rf_results_model4['X_train'].append(X_train_std)\n",
    "    rf_results_model4['Y_train'].append(Y_train)\n",
    "    rf_results_model4['X_test'].append(X_test_std)\n",
    "    rf_results_model4['Y_test'].append(Y_test)"
   ]
  },
  {
   "cell_type": "code",
   "execution_count": 140,
   "id": "5faa215b-d021-4edd-bdd3-43cb1e9009b2",
   "metadata": {},
   "outputs": [
    {
     "name": "stdout",
     "output_type": "stream",
     "text": [
      "index\n",
      "[0, 1, 2, 3, 4, 5, 6]\n",
      "scale\n",
      "[20, 40, 60, 80, 100, 120, 140]\n",
      "accuracy\n",
      "[0.7672583826429981, 0.7928994082840237, 0.7731755424063116, 0.73767258382643, 0.7357001972386588, 0.6962524654832347, 0.6627218934911243]\n",
      "error\n",
      "[0.23274161735700197, 0.20710059171597633, 0.22682445759368836, 0.26232741617357, 0.26429980276134124, 0.3037475345167653, 0.33727810650887574]\n",
      "cv_mean\n",
      "[0.8272133095662507, 0.8172905525846702, 0.7935828877005348, 0.8272727272727275, 0.776114081996435, 0.7521093285799166, 0.7521093285799166]\n",
      "cv_std\n",
      "[0.04936771194652674, 0.056217126556562906, 0.06003435217065299, 0.05897476013523224, 0.038733600308215814, 0.05852556619594855, 0.05852556619594855]\n"
     ]
    }
   ],
   "source": [
    "# print each data item in dic rf_results_model1 (no scaling)\n",
    "for key, value in rf_results_model1.items():\n",
    "    #index, scale, accuracy, error, mean, std = value\n",
    "    #print (\"{:<10} {:<10} {:<10} {:<10} {:<10} {:<10}\".format(index, scale, accuracy, error, mean, std))\n",
    "    print(key)\n",
    "    print(value)"
   ]
  },
  {
   "cell_type": "code",
   "execution_count": 141,
   "id": "b0af0031-a132-4719-9265-d1eb8306a5e9",
   "metadata": {},
   "outputs": [
    {
     "name": "stdout",
     "output_type": "stream",
     "text": [
      "index\n",
      "[0, 1, 2, 3, 4, 5, 6]\n",
      "scale\n",
      "[20, 40, 60, 80, 100, 120, 140]\n",
      "accuracy\n",
      "[0.7672583826429981, 0.7928994082840237, 0.7712031558185405, 0.7416173570019724, 0.73767258382643, 0.6982248520710059, 0.6627218934911243]\n",
      "error\n",
      "[0.23274161735700197, 0.20710059171597633, 0.22879684418145957, 0.2583826429980276, 0.26232741617357, 0.30177514792899407, 0.33727810650887574]\n",
      "cv_mean\n",
      "[0.8232323232323233, 0.8172905525846702, 0.7935828877005348, 0.8233511586452765, 0.776114081996435, 0.7541295306001188, 0.7541295306001188]\n",
      "cv_std\n",
      "[0.05325431067084179, 0.056217126556562906, 0.06301930576234982, 0.05264576448336248, 0.03721493704264538, 0.05815521490905936, 0.05815521490905936]\n"
     ]
    }
   ],
   "source": [
    "# print each data item in dic rf_results_model1 (scaling)\n",
    "for key, value in rf_results_model3.items():\n",
    "    #index, scale, accuracy, error, mean, std = value\n",
    "    #print (\"{:<10} {:<10} {:<10} {:<10} {:<10} {:<10}\".format(index, scale, accuracy, error, mean, std))\n",
    "    print(key)\n",
    "    print(value)"
   ]
  },
  {
   "cell_type": "code",
   "execution_count": 142,
   "id": "7407d030-9710-4164-8d4c-2119410ca772",
   "metadata": {},
   "outputs": [],
   "source": [
    "# plot accuracy for visualization\n",
    "# Each Feature Set (No Scaling Vs. Scaling)\n",
    "data = rf_results_model1['accuracy']\n",
    "labels = rf_results_model1['scale']\n",
    "data_std = rf_results_model3['accuracy']\n",
    "labels_std = rf_results_model3['scale']"
   ]
  },
  {
   "cell_type": "code",
   "execution_count": 143,
   "id": "35da33b5-610b-419a-bb1c-c40ebad81cb0",
   "metadata": {},
   "outputs": [
    {
     "data": {
      "image/png": "[encoded data removed]",
      "text/plain": [
       "<Figure size 1440x360 with 2 Axes>"
      ]
     },
     "metadata": {
      "needs_background": "light"
     },
     "output_type": "display_data"
    }
   ],
   "source": [
    "# plot accuracy for visualization\n",
    "# Each Feature Set (No Scaling Vs. Scaling)\n",
    "fig = plt.figure(figsize=(20,5))\n",
    "plt.subplot(121)\n",
    "plt.plot([i for i, e in enumerate(data)], data); plt.xticks([i for i, e in enumerate(labels)], [l for l in labels])\n",
    "plt.title(\"Accuracy Without Scaling\",fontsize = 15)\n",
    "plt.xlabel('Model',fontsize = 12)\n",
    "plt.xticks(rotation = 0)\n",
    "plt.ylabel('Accuracy',fontsize = 12)\n",
    "plt.subplot(122)\n",
    "plt.plot([i for i, e in enumerate(data_std)], data_std); plt.xticks([i for i, e in enumerate(labels_std)], [l for l in labels_std])\n",
    "plt.title(\"Accuracy After Scaling\",fontsize = 15)\n",
    "plt.xlabel('Model',fontsize = 12)\n",
    "plt.xticks(rotation =0)\n",
    "plt.show()"
   ]
  },
  {
   "cell_type": "code",
   "execution_count": 144,
   "id": "382088d6-38cb-4c33-bade-c7cd9d1c34a9",
   "metadata": {},
   "outputs": [],
   "source": [
    "# print each data item in dic rf_results_model2\n",
    "#for key, value in rf_results_model2.items():\n",
    "#    print(key)\n",
    "#    print(value)"
   ]
  },
  {
   "cell_type": "code",
   "execution_count": 145,
   "id": "15240604-586b-4f2d-83fd-6553131e0bc6",
   "metadata": {},
   "outputs": [
    {
     "data": {
      "text/plain": [
       "(1, 40, 0.7928994082840237)"
      ]
     },
     "execution_count": 145,
     "metadata": {},
     "output_type": "execute_result"
    }
   ],
   "source": [
    "# No Scaled Model (But equal accuracy to scaled)\n",
    "#Index of the MAX accuracy element in a dictionary\n",
    "the_index = rf_results_model1['accuracy'].index(max(rf_results_model1['accuracy']))\n",
    "the_scale = rf_results_model1['scale'][the_index]\n",
    "the_accuracy = rf_results_model1['accuracy'][the_index]\n",
    "the_index, the_scale, the_accuracy"
   ]
  },
  {
   "cell_type": "code",
   "execution_count": 146,
   "id": "a284f4df-9475-4d1a-a58d-be8404c08194",
   "metadata": {},
   "outputs": [],
   "source": [
    "# From the best model, get feature importance\n",
    "# No Scaled Model (But equal accuracy to scaled)\n",
    "clf_best = rf_results_model2['clf_best'][the_index]\n",
    "X_train = rf_results_model2['X_train'][the_index]\n",
    "Y_train = rf_results_model2['Y_train'][the_index]\n",
    "X_test = rf_results_model2['X_test'][the_index]\n",
    "Y_test = rf_results_model2['Y_test'][the_index]"
   ]
  },
  {
   "cell_type": "code",
   "execution_count": 169,
   "id": "1abdb68e-fa7f-41e5-a932-13d9894a8885",
   "metadata": {},
   "outputs": [
    {
     "name": "stdout",
     "output_type": "stream",
     "text": [
      "Metrics: \n",
      "               precision    recall  f1-score   support\n",
      "\n",
      "    asphalt        0.91      0.89      0.90        45\n",
      "   building        0.71      0.73      0.72        97\n",
      "        car        0.73      0.90      0.81        21\n",
      "   concrete        0.72      0.68      0.70        93\n",
      "      grass        0.79      0.88      0.83        83\n",
      "       pool        1.00      0.86      0.92        14\n",
      "     shadow        0.86      0.93      0.89        45\n",
      "       soil        0.62      0.75      0.68        20\n",
      "       tree        0.92      0.75      0.83        89\n",
      "\n",
      "    accuracy                           0.79       507\n",
      "   macro avg       0.81      0.82      0.81       507\n",
      "weighted avg       0.80      0.79      0.79       507\n",
      "\n"
     ]
    }
   ],
   "source": [
    "# Metrics\n",
    "# No Scaled Model (But equal accuracy to scaled)\n",
    "Y_hat = clf_best.predict(X_test)\n",
    "print('Metrics: \\n', classification_report(Y_test, Y_hat))"
   ]
  },
  {
   "cell_type": "code",
   "execution_count": 170,
   "id": "99cb818c-feaa-4e69-95c2-7bc1154c36e2",
   "metadata": {},
   "outputs": [],
   "source": [
    "clf_report = classification_report(Y_test, Y_hat, output_dict=True)"
   ]
  },
  {
   "cell_type": "code",
   "execution_count": 176,
   "id": "6ebe00ec-0c39-494d-ab43-b110d1e76462",
   "metadata": {},
   "outputs": [
    {
     "data": {
      "text/plain": [
       "<AxesSubplot:>"
      ]
     },
     "execution_count": 176,
     "metadata": {},
     "output_type": "execute_result"
    },
    {
     "data": {
      "image/png": "[encoded data removed]",
      "text/plain": [
       "<Figure size 432x288 with 2 Axes>"
      ]
     },
     "metadata": {
      "needs_background": "light"
     },
     "output_type": "display_data"
    }
   ],
   "source": [
    "#\n",
    "import seaborn as sns\n",
    "sns.heatmap(pd.DataFrame(clf_report).iloc[:-1, :].T, annot=True, cmap=\"Blues\")"
   ]
  },
  {
   "cell_type": "code",
   "execution_count": 148,
   "id": "5c34a2a1-e978-41a5-950d-722f8d3f4487",
   "metadata": {},
   "outputs": [],
   "source": [
    "# Extract single tree\n",
    "estimator = clf_best.estimators_[0]"
   ]
  },
  {
   "cell_type": "code",
   "execution_count": 149,
   "id": "6d09b0ae-e60f-4658-b92f-e3d02379d9eb",
   "metadata": {},
   "outputs": [
    {
     "data": {
      "text/plain": [
       "DecisionTreeClassifier(max_depth=14, max_features=14, min_samples_split=4,\n",
       "                       random_state=209652396)"
      ]
     },
     "execution_count": 149,
     "metadata": {},
     "output_type": "execute_result"
    }
   ],
   "source": [
    "estimator"
   ]
  },
  {
   "cell_type": "code",
   "execution_count": 150,
   "id": "3cbdc53b-c6f1-46a0-a21e-cd203768379d",
   "metadata": {},
   "outputs": [
    {
     "data": {
      "text/plain": [
       "Index(['BrdIndx_40', 'Area_40', 'Round_40', 'Bright_40', 'Compact_40',\n",
       "       'ShpIndx_40', 'Mean_G_40', 'Mean_R_40', 'Mean_NIR_40', 'SD_G_40',\n",
       "       'SD_R_40', 'SD_NIR_40', 'LW_40', 'GLCM1_40', 'Rect_40', 'GLCM2_40',\n",
       "       'Dens_40', 'Assym_40', 'NDVI_40', 'BordLngth_40', 'GLCM3_40'],\n",
       "      dtype='object')"
      ]
     },
     "execution_count": 150,
     "metadata": {},
     "output_type": "execute_result"
    }
   ],
   "source": [
    "X_train.columns"
   ]
  },
  {
   "cell_type": "code",
   "execution_count": 151,
   "id": "0501926e-1a6a-48f6-8ea2-f483154096b0",
   "metadata": {},
   "outputs": [
    {
     "data": {
      "text/plain": [
       "'class'"
      ]
     },
     "execution_count": 151,
     "metadata": {},
     "output_type": "execute_result"
    }
   ],
   "source": [
    "Y_train.name"
   ]
  },
  {
   "cell_type": "code",
   "execution_count": 152,
   "id": "e3736a60-8d2b-4049-a559-61d6f4801e1c",
   "metadata": {},
   "outputs": [],
   "source": [
    "# Export as dot file\n",
    "#export_graphviz(estimator, out_file='./out/one_tree.dot', \n",
    "#                feature_names = X_train.columns,\n",
    "#                class_names = Y_train.name,\n",
    "#                rounded = True, proportion = False, \n",
    "#                precision = 2, filled = True)"
   ]
  },
  {
   "cell_type": "code",
   "execution_count": 153,
   "id": "2eaa9a42-9940-4f6f-a2f7-a5448a78b0cb",
   "metadata": {},
   "outputs": [],
   "source": [
    "# Convert to png using system command (requires Graphviz)\n",
    "#call(['dot', '-Tpng', './out/one_tree.dot', '-o', './out/one_tree.png', '-Gdpi=600'])"
   ]
  },
  {
   "cell_type": "code",
   "execution_count": 154,
   "id": "237fc9ee-417d-4e50-9215-20b250589aa3",
   "metadata": {},
   "outputs": [],
   "source": [
    "# Display in jupyter notebook\n",
    "#Image(filename = './out/one_tree.png')"
   ]
  },
  {
   "cell_type": "code",
   "execution_count": 155,
   "id": "b627ce5d-68fe-42ed-b89c-b206e5d75c1c",
   "metadata": {},
   "outputs": [
    {
     "name": "stdout",
     "output_type": "stream",
     "text": [
      "Elapsed time to compute the importances: 0.088 seconds\n"
     ]
    }
   ],
   "source": [
    "# No Scaled Model (Best Model)\n",
    "# Features Importance - MDI\n",
    "#Feature importance based on Mean Decrease in Impurity\n",
    "#Feature importances are provided by the fitted attribute \n",
    "# feature_importances_ and they are computed as the mean and \n",
    "# standard deviation of accumulation of the impurity decrease \n",
    "# within each tree.\n",
    "\n",
    "\n",
    "start_time = time.time()\n",
    "importances = clf_best.feature_importances_\n",
    "std = np.std([tree.feature_importances_ for tree in clf_best.estimators_], axis=0)\n",
    "elapsed_time = time.time() - start_time\n",
    "\n",
    "print(f\"Elapsed time to compute the importances: {elapsed_time:.3f} seconds\")"
   ]
  },
  {
   "cell_type": "code",
   "execution_count": 156,
   "id": "1a42e5ff-1acd-40c7-903a-f0b63ad7e14c",
   "metadata": {},
   "outputs": [
    {
     "data": {
      "image/png": "[encoded data removed]",
      "text/plain": [
       "<Figure size 432x288 with 1 Axes>"
      ]
     },
     "metadata": {
      "needs_background": "light"
     },
     "output_type": "display_data"
    }
   ],
   "source": [
    "# No Scaled Model (But equal accuracy to scaled)\n",
    "forest_importances = pd.Series(importances, index=X_train.columns)\n",
    "\n",
    "fig, ax = plt.subplots()\n",
    "forest_importances.plot.bar(yerr=std, ax=ax)\n",
    "ax.set_title(\"Feature importances using MDI\")\n",
    "ax.set_ylabel(\"Mean decrease in impurity\")\n",
    "fig.tight_layout()"
   ]
  },
  {
   "cell_type": "code",
   "execution_count": 157,
   "id": "7f1a549a-a8c3-4861-b009-edf27e3fe7f8",
   "metadata": {},
   "outputs": [
    {
     "name": "stdout",
     "output_type": "stream",
     "text": [
      "Elapsed time to compute the importances: 20.956 seconds\n"
     ]
    }
   ],
   "source": [
    "# No Scaled Model (But equal accuracy to scaled)\n",
    "#Feature importance - FEATURE PERMUTATION\n",
    "#Feature importance based on feature permutation\n",
    "#Permutation feature importance overcomes limitations \n",
    "# of the impurity-based feature importance: they do not \n",
    "# have a bias toward high-cardinality features and can \n",
    "# be computed on a left-out test set.\n",
    "start_time = time.time()\n",
    "result = permutation_importance(\n",
    "    clf_best, X_test, Y_test, n_repeats=10, random_state=42, n_jobs=2\n",
    ")\n",
    "elapsed_time = time.time() - start_time\n",
    "print(f\"Elapsed time to compute the importances: {elapsed_time:.3f} seconds\")\n",
    "\n",
    "forest_importances = pd.Series(result.importances_mean, index=X_train.columns)"
   ]
  },
  {
   "cell_type": "code",
   "execution_count": 158,
   "id": "120cf02d-dea9-48cd-b7cb-d91b81ec5e76",
   "metadata": {},
   "outputs": [
    {
     "data": {
      "image/png": "[encoded data removed]",
      "text/plain": [
       "<Figure size 432x288 with 1 Axes>"
      ]
     },
     "metadata": {
      "needs_background": "light"
     },
     "output_type": "display_data"
    }
   ],
   "source": [
    "# No Scaled Model (But equal accuracy to scaled)\n",
    "# The computation for full permutation importance is \n",
    "# more costly. Features are shuffled n times and the \n",
    "# model refitted to estimate the importance of it\n",
    "fig, ax = plt.subplots()\n",
    "forest_importances.plot.bar(yerr=result.importances_std, ax=ax)\n",
    "ax.set_title(\"Feature importances using permutation on full model\")\n",
    "ax.set_ylabel(\"Mean accuracy decrease\")\n",
    "fig.tight_layout()\n",
    "plt.show()\n",
    "#Although the relative importances vary. As seen on the plots, \n",
    "# MDI is less likely than permutation importance to fully omit a feature."
   ]
  },
  {
   "cell_type": "code",
   "execution_count": 159,
   "id": "1d56a865-6a69-41ce-95ef-fdac0c9a898f",
   "metadata": {},
   "outputs": [
    {
     "data": {
      "image/png": "[encoded data removed]",
      "text/plain": [
       "<Figure size 1440x360 with 2 Axes>"
      ]
     },
     "metadata": {
      "needs_background": "light"
     },
     "output_type": "display_data"
    }
   ],
   "source": [
    "# feature importance\n",
    "# No Scaled Model (But equal accuracy to scaled)\n",
    "fig = plt.figure(figsize=(20,5))\n",
    "plt.subplot(121)\n",
    "#plt.plot([i for i, e in enumerate(data)], data); plt.xticks([i for i, e in enumerate(labels)], [l for l in labels])\n",
    "#plt.title(\"Accuracy Without Scaling\",fontsize = 15)\n",
    "#plt.xlabel('Model',fontsize = 12)\n",
    "#plt.xticks(rotation = 0)\n",
    "#plt.ylabel('Accuracy',fontsize = 12)\n",
    "start_time = time.time()\n",
    "importances = clf_best.feature_importances_\n",
    "std = np.std([tree.feature_importances_ for tree in clf_best.estimators_], axis=0)\n",
    "elapsed_time = time.time() - start_time\n",
    "forest_importances = pd.Series(importances, index=X_train.columns)\n",
    "#forest_importances.plot.bar(yerr=std, ax=ax)\n",
    "plt.bar(forest_importances.index, forest_importances.values, width=width, yerr=std)\n",
    "plt.xticks(rotation = 90)\n",
    "plt.title(\"Feature importances using MDI\")\n",
    "plt.ylabel(\"Mean decrease in impurity\")\n",
    "#fig.tight_layout()\n",
    "\n",
    "plt.subplot(122)\n",
    "start_time = time.time()\n",
    "result = permutation_importance(\n",
    "    clf_best, X_test, Y_test, n_repeats=10, random_state=42, n_jobs=2\n",
    ")\n",
    "elapsed_time = time.time() - start_time\n",
    "\n",
    "forest_importances = pd.Series(result.importances_mean, index=X_train.columns)\n",
    "#forest_importances.plot.bar(yerr=result.importances_std, ax=ax)\n",
    "plt.bar(forest_importances.index, forest_importances.values, width=width, yerr=result.importances_std)\n",
    "plt.xticks(rotation = 90)\n",
    "plt.title(\"Feature importances using permutation on full model\")\n",
    "plt.ylabel(\"Mean accuracy decrease\")\n",
    "fig.tight_layout()\n",
    "plt.show()"
   ]
  },
  {
   "cell_type": "code",
   "execution_count": 160,
   "id": "98a9cfd2-22f6-4cb2-9dc3-94a86aaca175",
   "metadata": {},
   "outputs": [
    {
     "data": {
      "text/plain": [
       "BrdIndx_40      0.042001\n",
       "Area_40         0.075766\n",
       "Round_40        0.008298\n",
       "Bright_40       0.073430\n",
       "Compact_40      0.025438\n",
       "ShpIndx_40      0.037055\n",
       "Mean_G_40       0.086108\n",
       "Mean_R_40       0.097882\n",
       "Mean_NIR_40     0.097671\n",
       "SD_G_40         0.035643\n",
       "SD_R_40         0.026114\n",
       "SD_NIR_40       0.024279\n",
       "LW_40           0.011999\n",
       "GLCM1_40        0.010831\n",
       "Rect_40         0.006835\n",
       "GLCM2_40        0.008886\n",
       "Dens_40         0.011274\n",
       "Assym_40        0.006814\n",
       "NDVI_40         0.244751\n",
       "BordLngth_40    0.048240\n",
       "GLCM3_40        0.020686\n",
       "dtype: float64"
      ]
     },
     "execution_count": 160,
     "metadata": {},
     "output_type": "execute_result"
    }
   ],
   "source": [
    "forest_importances = pd.Series(importances, index=X_train.columns)\n",
    "forest_importances"
   ]
  },
  {
   "cell_type": "code",
   "execution_count": 161,
   "id": "79a83ce3-3826-442f-b9f9-2781529614e0",
   "metadata": {},
   "outputs": [
    {
     "data": {
      "text/plain": [
       "array([0.0025641 , 0.03313609, 0.0035503 , 0.00552268, 0.00236686,\n",
       "       0.00729783, 0.00828402, 0.0260355 , 0.01814596, 0.01104536,\n",
       "       0.01459566, 0.017357  , 0.00276134, 0.00118343, 0.00039448,\n",
       "       0.00710059, 0.00473373, 0.00078895, 0.34871795, 0.00512821,\n",
       "       0.00394477])"
      ]
     },
     "execution_count": 161,
     "metadata": {},
     "output_type": "execute_result"
    }
   ],
   "source": [
    "forest_importances = pd.Series(result.importances_mean, index=X_train.columns)\n",
    "forest_importances.values"
   ]
  },
  {
   "cell_type": "code",
   "execution_count": 162,
   "id": "c7dc89b5-263c-41b9-8419-3ae6191e3a81",
   "metadata": {},
   "outputs": [
    {
     "data": {
      "image/png": "[encoded data removed]",
      "text/plain": [
       "<Figure size 1440x360 with 2 Axes>"
      ]
     },
     "metadata": {
      "needs_background": "light"
     },
     "output_type": "display_data"
    }
   ],
   "source": [
    "width=0.4\n",
    "fig = plt.figure(figsize=(20,5))\n",
    "fig.add_subplot(1, 2, 1)\n",
    "forest_importances = pd.Series(importances, index=X_train.columns)\n",
    "plt.bar(forest_importances.index, forest_importances.values, width=width, yerr=std)\n",
    "plt.xticks(rotation = 90)\n",
    "plt.xlabel('Mean decrease in impurity',fontsize = 12)\n",
    "plt.title('Feature importances using MDI',fontsize = 12)\n",
    "#forest_importances.plot.bar(yerr=std, ax=ax)\n",
    "fig.add_subplot(1, 2, 2)\n",
    "forest_importances = pd.Series(result.importances_mean, index=X_train.columns)\n",
    "plt.bar(forest_importances.index, forest_importances.values, width=width, yerr=result.importances_std)\n",
    "#forest_importances.plot.bar(yerr=result.importances_std, ax=ax)\n",
    "plt.xticks(rotation = 90)\n",
    "plt.xlabel('Mean accuracy decrease',fontsize = 12)\n",
    "plt.title('Feature importances using permutation on full model|',fontsize = 12)\n",
    "fig.tight_layout()\n",
    "plt.show()"
   ]
  },
  {
   "cell_type": "code",
   "execution_count": 163,
   "id": "62a2d459-d120-4d9a-9440-4aa3e1e230b4",
   "metadata": {},
   "outputs": [
    {
     "name": "stderr",
     "output_type": "stream",
     "text": [
      "C:\\Users\\500596~1\\AppData\\Local\\Temp\\3/ipykernel_14268/3214420580.py:5: UserWarning: FixedFormatter should only be used together with FixedLocator\n",
      "  axes[0].set_xticklabels(forest_importances.index, rotation=90) #axes[0].get_xticks()\n",
      "C:\\Users\\500596~1\\AppData\\Local\\Temp\\3/ipykernel_14268/3214420580.py:9: UserWarning: FixedFormatter should only be used together with FixedLocator\n",
      "  axes[1].set_xticklabels(forest_importances.index, rotation=90) #axes[0].get_xticks()\n"
     ]
    },
    {
     "data": {
      "image/png": "[encoded data removed]",
      "text/plain": [
       "<Figure size 432x288 with 2 Axes>"
      ]
     },
     "metadata": {
      "needs_background": "light"
     },
     "output_type": "display_data"
    }
   ],
   "source": [
    "fig, axes = plt.subplots(nrows=1, ncols=2)\n",
    "forest_importances = pd.Series(importances, index=X_train.columns)\n",
    "#axes[0].plot(forest_importances.index, forest_importances.values)\n",
    "axes[0].bar(forest_importances.index, forest_importances.values, yerr=std)\n",
    "axes[0].set_xticklabels(forest_importances.index, rotation=90) #axes[0].get_xticks()\n",
    "forest_importances = pd.Series(result.importances_mean, index=X_train.columns)\n",
    "#axes[1].plot(forest_importances.index, forest_importances.values)\n",
    "axes[1].bar(forest_importances.index, forest_importances.values, yerr=result.importances_std)\n",
    "axes[1].set_xticklabels(forest_importances.index, rotation=90) #axes[0].get_xticks()\n",
    "#fig.tight_layout()\n",
    "plt.show()"
   ]
  },
  {
   "cell_type": "code",
   "execution_count": 164,
   "id": "d67c9247-ea5f-410e-9ccd-064f8287c768",
   "metadata": {},
   "outputs": [
    {
     "data": {
      "image/png": "[encoded data removed]",
      "text/plain": [
       "<Figure size 432x288 with 1 Axes>"
      ]
     },
     "metadata": {
      "needs_background": "light"
     },
     "output_type": "display_data"
    },
    {
     "data": {
      "image/png": "[encoded data removed]",
      "text/plain": [
       "<Figure size 432x288 with 1 Axes>"
      ]
     },
     "metadata": {
      "needs_background": "light"
     },
     "output_type": "display_data"
    }
   ],
   "source": [
    "x  = [ 1, 2, 3, 5, 10, 100, 1000 ]\n",
    "y1 = [ 1, 0.822, 0.763, 0.715, 0.680, 0.648, 0.645 ]\n",
    "y2 = [ 1, 0.859, 0.812, 0.774, 0.746, 0.721, 0.718 ]\n",
    "\n",
    "import matplotlib.pyplot as plt\n",
    "from matplotlib.transforms import BlendedGenericTransform\n",
    "# mode 01 from one case\n",
    "fig1 = plt.figure()\n",
    "ax1 = fig1.add_subplot(111)\n",
    "line1, = ax1.plot( x, y1, label='mode 01' )\n",
    "# mode 01 from other case\n",
    "fig2 = plt.figure()\n",
    "ax2 = fig2.add_subplot(111)\n",
    "line2, = ax2.plot( x, y2, label='mode 01' )\n"
   ]
  },
  {
   "cell_type": "code",
   "execution_count": 165,
   "id": "27b87499-4699-4cbc-a38d-1243143ebc49",
   "metadata": {},
   "outputs": [
    {
     "name": "stderr",
     "output_type": "stream",
     "text": [
      "C:\\Users\\500596~1\\AppData\\Local\\Temp\\3/ipykernel_14268/442629387.py:24: UserWarning: Matplotlib is currently using module://matplotlib_inline.backend_inline, which is a non-GUI backend, so cannot show the figure.\n",
      "  fig3.show()\n"
     ]
    },
    {
     "data": {
      "image/png": "[encoded data removed]",
      "text/plain": [
       "<Figure size 720x360 with 2 Axes>"
      ]
     },
     "metadata": {
      "needs_background": "light"
     },
     "output_type": "display_data"
    }
   ],
   "source": [
    "\n",
    "# Create new figure and two subplots, sharing both axes\n",
    "fig3, (ax3, ax4) = plt.subplots(1,2,sharey=True, sharex=True,figsize=(10,5))\n",
    "\n",
    "# Plot data from fig1 and fig2\n",
    "line3, = ax3.plot(line1.get_data()[0], line1.get_data()[1])\n",
    "line4, = ax4.plot(line2.get_data()[0], line2.get_data()[1])\n",
    "# If possible (easy access to plotting data) use\n",
    "# ax3.plot(x, y1)\n",
    "# ax4.lpot(x, y2)\n",
    "\n",
    "ax3.set_ylabel('y-axis')\n",
    "ax3.grid(True)\n",
    "ax4.grid(True)\n",
    "\n",
    "# Add legend\n",
    "fig3.legend((line3, line4),\n",
    "            ('label 3', 'label 4'),\n",
    "            loc = 'upper center',\n",
    "            bbox_to_anchor = [0.5, -0.05],\n",
    "            bbox_transform = BlendedGenericTransform(fig3.transFigure, ax3.transAxes))\n",
    "# Make space for the legend beneath the subplots\n",
    "plt.subplots_adjust(bottom = 0.2)\n",
    "# Show only fig3\n",
    "fig3.show()"
   ]
  },
  {
   "cell_type": "code",
   "execution_count": null,
   "id": "2a684b8d-2187-444f-b37f-7371a9ebb0a7",
   "metadata": {},
   "outputs": [],
   "source": []
  }
 ],
 "metadata": {
  "kernelspec": {
   "display_name": "Python 3 (ipykernel)",
   "language": "python",
   "name": "python3"
  },
  "language_info": {
   "codemirror_mode": {
    "name": "ipython",
    "version": 3
   },
   "file_extension": ".py",
   "mimetype": "text/x-python",
   "name": "python",
   "nbconvert_exporter": "python",
   "pygments_lexer": "ipython3",
   "version": "3.8.8"
  }
 },
 "nbformat": 4,
 "nbformat_minor": 5
}
