{
 "cells": [
  {
   "cell_type": "code",
   "execution_count": 1,
   "id": "75fee185-69c7-475a-b1c1-a06c5fac8436",
   "metadata": {},
   "outputs": [],
   "source": [
    "from sys import version_info\n",
    "import os"
   ]
  },
  {
   "cell_type": "code",
   "execution_count": 2,
   "id": "b3b55db0-301e-461a-97fc-290392f1c2fd",
   "metadata": {},
   "outputs": [
    {
     "data": {
      "text/plain": [
       "'C:\\\\ProgramData\\\\Anaconda3;C:\\\\ProgramData\\\\Anaconda3\\\\Library\\\\mingw-w64\\\\bin;C:\\\\ProgramData\\\\Anaconda3\\\\Library\\\\usr\\\\bin;C:\\\\ProgramData\\\\Anaconda3\\\\Library\\\\bin;C:\\\\ProgramData\\\\Anaconda3\\\\Scripts;C:\\\\ProgramData\\\\Anaconda3\\\\bin;C:\\\\ProgramData\\\\Anaconda3\\\\condabin;C:\\\\Program Files (x86)\\\\Common Files\\\\Oracle\\\\Java\\\\javapath;C:\\\\WINDOWS\\\\system32;C:\\\\WINDOWS;C:\\\\WINDOWS\\\\System32\\\\Wbem;C:\\\\WINDOWS\\\\System32\\\\WindowsPowerShell\\\\v1.0;C:\\\\WINDOWS\\\\System32\\\\OpenSSH;C:\\\\Program Files\\\\MATLAB\\\\R2021a\\\\runtime\\\\win64;C:\\\\Program Files\\\\MATLAB\\\\R2021a\\\\bin;C:\\\\Program Files\\\\dotnet;C:\\\\Program Files\\\\PuTTY;C:\\\\Program Files\\\\Git\\\\cmd;C:\\\\Program Files\\\\GDAL;C:\\\\Users\\\\500596972\\\\AppData\\\\Local\\\\Microsoft\\\\WindowsApps;C:\\\\Program Files (x86)\\\\GitHub CLI;C:\\\\Users\\\\500596972\\\\AppData\\\\Local\\\\Programs\\\\Microsoft VS Code\\\\bin;C:\\\\Users\\\\500596972\\\\AppData\\\\Roaming\\\\TinyTeX\\\\bin\\\\win32'"
      ]
     },
     "execution_count": 2,
     "metadata": {},
     "output_type": "execute_result"
    }
   ],
   "source": [
    "os.environ['PATH']"
   ]
  },
  {
   "cell_type": "code",
   "execution_count": 3,
   "id": "b31e09b9-92e0-443a-9bfd-a485d442b038",
   "metadata": {},
   "outputs": [
    {
     "data": {
      "text/plain": [
       "'C:\\\\Program Files\\\\GDAL\\\\gdal-data'"
      ]
     },
     "execution_count": 3,
     "metadata": {},
     "output_type": "execute_result"
    }
   ],
   "source": [
    "os.environ['GDAL_DATA']"
   ]
  },
  {
   "cell_type": "code",
   "execution_count": 4,
   "id": "fc739eb7-88ca-4ed7-9650-46f820da54ac",
   "metadata": {},
   "outputs": [
    {
     "data": {
      "text/plain": [
       "False"
      ]
     },
     "execution_count": 4,
     "metadata": {},
     "output_type": "execute_result"
    }
   ],
   "source": [
    "'PROJ_LIB' not in os.environ"
   ]
  },
  {
   "cell_type": "code",
   "execution_count": 5,
   "id": "88652c3d-489d-42cd-9a32-b751506d4936",
   "metadata": {},
   "outputs": [
    {
     "data": {
      "text/plain": [
       "'C:\\\\Program Files\\\\GDAL\\\\projlib'"
      ]
     },
     "execution_count": 5,
     "metadata": {},
     "output_type": "execute_result"
    }
   ],
   "source": [
    "os.environ['PROJ_LIB']"
   ]
  },
  {
   "cell_type": "code",
   "execution_count": 6,
   "id": "328f5135-54bd-4d8e-8320-6536ef642baf",
   "metadata": {},
   "outputs": [
    {
     "data": {
      "text/plain": [
       "'C:\\\\Program Files\\\\GDAL\\\\gdalplugins'"
      ]
     },
     "execution_count": 6,
     "metadata": {},
     "output_type": "execute_result"
    }
   ],
   "source": [
    "os.environ['GDAL_DRIVER_PATH']"
   ]
  },
  {
   "cell_type": "code",
   "execution_count": null,
   "id": "01a611ec-ffca-4b1b-9779-7d4576bd89a2",
   "metadata": {},
   "outputs": [],
   "source": []
  },
  {
   "cell_type": "code",
   "execution_count": null,
   "id": "f184d1ad-9d0c-45bf-b27d-553450867247",
   "metadata": {},
   "outputs": [],
   "source": []
  }
 ],
 "metadata": {
  "kernelspec": {
   "display_name": "Python 3 (ipykernel)",
   "language": "python",
   "name": "python3"
  },
  "language_info": {
   "codemirror_mode": {
    "name": "ipython",
    "version": 3
   },
   "file_extension": ".py",
   "mimetype": "text/x-python",
   "name": "python",
   "nbconvert_exporter": "python",
   "pygments_lexer": "ipython3",
   "version": "3.8.8"
  }
 },
 "nbformat": 4,
 "nbformat_minor": 5
}
