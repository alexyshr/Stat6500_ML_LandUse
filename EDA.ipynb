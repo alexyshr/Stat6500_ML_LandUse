{
 "cells": [
  {
   "cell_type": "raw",
   "id": "745b9197-5f60-4981-8363-153dc3b0bd26",
   "metadata": {
    "tags": []
   },
   "source": [
    "%%latex\n",
    "\\newpage\n",
    "\\begin{titlepage}\n",
    "\\begin{center}\n",
    "\\vspace*{1cm}\n",
    "\\large{STAT 6500}\\\\\n",
    "\\vspace*{2cm}\n",
    "\\line(1,0){400}\\\\\n",
    "\\huge{\\textbf{Statistical Machine Learning}}\\\\\n",
    "\\vspace*{1cm}\n",
    "Land Use Cover - EDA\\\\\n",
    "\\vspace*{1cm}\n",
    "\\normalsize{\\textbf{Kendall Byrd - Atitarn Dechasuravanit - Alexys Rodriguez}}\\\\\n",
    "\\line(1,0){400}\n",
    "\\vfill\n",
    "\\huge{Spring 2022}\\\\\n",
    "Wednesday, March 2\n",
    "\\end{center}\n",
    "\\end{titlepage}"
   ]
  },
  {
   "cell_type": "raw",
   "id": "d9acc6b5-6427-4bd9-8207-8c3886f3990a",
   "metadata": {},
   "source": [
    "%%latex\n",
    "\\begin{equation}\n",
    "\\begin{aligned}\n",
    "\\nabla\n",
    "\\end{aligned}\n",
    "\\end{equation}"
   ]
  },
  {
   "cell_type": "raw",
   "id": "f0a2d3ea-d202-457a-848e-4635f32c2091",
   "metadata": {},
   "source": [
    "%%latex\n",
    "\\tableofcontents"
   ]
  },
  {
   "cell_type": "markdown",
   "id": "abb8e88f-b610-4e7f-a161-e4216a0c6bfe",
   "metadata": {},
   "source": [
    "# Introduction"
   ]
  },
  {
   "cell_type": "markdown",
   "id": "46df127c-1613-4fd0-909f-e4df9469c8c4",
   "metadata": {},
   "source": [
    "## Data Description"
   ]
  },
  {
   "cell_type": "markdown",
   "id": "d84517a6-0986-4ac6-9008-b709915968f0",
   "metadata": {},
   "source": [
    "Mean_g mean asdad"
   ]
  },
  {
   "cell_type": "code",
   "execution_count": null,
   "id": "74f9a030-1c4c-4100-a039-6c9d0a7a3a57",
   "metadata": {},
   "outputs": [],
   "source": []
  },
  {
   "cell_type": "markdown",
   "id": "4ab3f324-741c-4994-8876-421b670c570f",
   "metadata": {},
   "source": [
    "# Exploratory Data Analysis"
   ]
  },
  {
   "cell_type": "code",
   "execution_count": 1,
   "id": "01dfb289",
   "metadata": {
    "tags": [
     "remove-input"
    ]
   },
   "outputs": [
    {
     "name": "stdout",
     "output_type": "stream",
     "text": [
      "hola\n"
     ]
    }
   ],
   "source": [
    "print(\"hola\")"
   ]
  },
  {
   "cell_type": "code",
   "execution_count": 2,
   "id": "539667ae-d348-46b5-90f6-e2cece0feb8e",
   "metadata": {
    "tags": [
     "hide-input"
    ]
   },
   "outputs": [
    {
     "name": "stdout",
     "output_type": "stream",
     "text": [
      "hola2\n"
     ]
    }
   ],
   "source": [
    "print(\"hola2\")"
   ]
  },
  {
   "cell_type": "code",
   "execution_count": 3,
   "id": "f6893cd3-6ecd-4ba0-8390-de56c7fc3d8b",
   "metadata": {
    "tags": [
     "hide-output",
     "remove_cell"
    ]
   },
   "outputs": [
    {
     "name": "stdout",
     "output_type": "stream",
     "text": [
      "hola3\n"
     ]
    }
   ],
   "source": [
    "print(\"hola3\")"
   ]
  },
  {
   "cell_type": "code",
   "execution_count": null,
   "id": "80b1c45b-6d7f-428a-b79b-f08885a8b306",
   "metadata": {},
   "outputs": [],
   "source": []
  }
 ],
 "metadata": {
  "celltoolbar": "Edit Metadata",
  "kernelspec": {
   "display_name": "Python 3 (ipykernel)",
   "language": "python",
   "name": "python3"
  },
  "language_info": {
   "codemirror_mode": {
    "name": "ipython",
    "version": 3
   },
   "file_extension": ".py",
   "mimetype": "text/x-python",
   "name": "python",
   "nbconvert_exporter": "python",
   "pygments_lexer": "ipython3",
   "version": "3.8.8"
  },
  "toc-autonumbering": true,
  "toc-showcode": true,
  "toc-showmarkdowntxt": false,
  "toc-showtags": false
 },
 "nbformat": 4,
 "nbformat_minor": 5
}
