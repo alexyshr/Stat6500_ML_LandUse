{
 "cells": [
  {
   "cell_type": "code",
   "execution_count": 92,
   "id": "cd6ce2d8-7840-4d37-b981-e8d3dad6cc6b",
   "metadata": {},
   "outputs": [],
   "source": [
    "import pandas as pd\n",
    "import numpy as np\n",
    "import os\n",
    "from statistics import mean\n",
    "# Machine Learning Libraries\n",
    "from sklearn.neighbors import KNeighborsClassifier\n",
    "from sklearn.model_selection import GridSearchCV\n",
    "# Randomized Search of Hyperparameters\n",
    "from scipy.stats import randint\n",
    "from sklearn.experimental import enable_halving_search_cv  # noqa\n",
    "from sklearn.model_selection import GridSearchCV\n",
    "\n",
    "# Analysis of accuracy\n",
    "from sklearn import metrics\n",
    "from sklearn.metrics import classification_report, confusion_matrix\n",
    "# Export the tree\n",
    "from sklearn.tree import export_graphviz\n",
    "# Convert to png using system command\n",
    "from subprocess import call\n",
    "\n",
    "# Feature Importance\n",
    "from sklearn.inspection import permutation_importance\n",
    "\n",
    "#Work with plots\n",
    "import matplotlib.pyplot as plt\n",
    "\n",
    "# Training and testing sampling\n",
    "# to ensure sam proportion of samples\n",
    "# in training and testing compared\n",
    "# with the whole dataset proportion\n",
    "from sklearn.model_selection import train_test_split\n",
    "from collections import Counter\n",
    "\n",
    "# Cross validation\n",
    "from sklearn.model_selection import cross_val_score\n",
    "from sklearn.model_selection import RepeatedStratifiedKFold\n",
    "\n",
    "# Scale Data\n",
    "from sklearn.preprocessing import StandardScaler,MinMaxScaler"
   ]
  },
  {
   "cell_type": "code",
   "execution_count": 93,
   "id": "50957c1d-9f96-4a2d-9474-21b3563fdc99",
   "metadata": {},
   "outputs": [
    {
     "name": "stdout",
     "output_type": "stream",
     "text": [
      "Rows and Columns(Train):  (168, 148)\n",
      "Rows and Columns(Test) :  (507, 148)\n"
     ]
    }
   ],
   "source": [
    "# load in training and test data\n",
    "train = pd.read_csv('training.csv')\n",
    "test = pd.read_csv('testing.csv')\n",
    "print(\"Rows and Columns(Train): \",train.shape)\n",
    "print(\"Rows and Columns(Test) : \",test.shape)"
   ]
  },
  {
   "cell_type": "code",
   "execution_count": 94,
   "id": "2674ed4d-d148-4825-b4ec-27c9840a66d6",
   "metadata": {},
   "outputs": [
    {
     "data": {
      "text/plain": [
       "False"
      ]
     },
     "execution_count": 94,
     "metadata": {},
     "output_type": "execute_result"
    }
   ],
   "source": [
    "# check for missing values although it is clear there are none\n",
    "train.isnull().any().any()"
   ]
  },
  {
   "cell_type": "code",
   "execution_count": 95,
   "id": "711576c7-ed0a-48e3-b39b-523a6afe21e8",
   "metadata": {},
   "outputs": [
    {
     "data": {
      "text/plain": [
       "0"
      ]
     },
     "execution_count": 95,
     "metadata": {},
     "output_type": "execute_result"
    }
   ],
   "source": [
    "# duplicate function of pandas returns a duplicate row as true and others as false\n",
    "sum(train.duplicated())"
   ]
  },
  {
   "cell_type": "code",
   "execution_count": 96,
   "id": "b4c989cd-5948-46c8-80f6-50bc034ac884",
   "metadata": {},
   "outputs": [
    {
     "data": {
      "text/plain": [
       "grass        29\n",
       "building     25\n",
       "concrete     23\n",
       "tree         17\n",
       "shadow       16\n",
       "car          15\n",
       "pool         15\n",
       "asphalt      14\n",
       "soil         14\n",
       "Name: class, dtype: int64"
      ]
     },
     "execution_count": 96,
     "metadata": {},
     "output_type": "execute_result"
    }
   ],
   "source": [
    "# target variable defined\n",
    "Y_train = train[\"class\"].copy()\n",
    "Y_test  = test[\"class\"].copy()\n",
    "Y_train.value_counts()"
   ]
  },
  {
   "cell_type": "code",
   "execution_count": 97,
   "id": "35de1b32-c1bb-49e3-b96f-dae9febf752d",
   "metadata": {},
   "outputs": [
    {
     "data": {
      "text/plain": [
       "((168, 147), (168,), (507, 147), (507,))"
      ]
     },
     "execution_count": 97,
     "metadata": {},
     "output_type": "execute_result"
    }
   ],
   "source": [
    "#Define the model and datasets for training and testing (all features)\n",
    "X_train = train.iloc[:,1:148]\n",
    "X_test  = test.iloc[:,1:148]\n",
    "X_train.shape, Y_train.shape, X_test.shape, Y_test.shape"
   ]
  },
  {
   "cell_type": "code",
   "execution_count": 98,
   "id": "be8a4ea8-a37d-47e7-a9b0-43f3d217fba7",
   "metadata": {},
   "outputs": [
    {
     "name": "stdout",
     "output_type": "stream",
     "text": [
      "Fitting 5 folds for each of 7992 candidates, totalling 39960 fits\n"
     ]
    },
    {
     "name": "stderr",
     "output_type": "stream",
     "text": [
      "C:\\ProgramData\\Anaconda3\\lib\\site-packages\\sklearn\\model_selection\\_search.py:969: UserWarning: One or more of the test scores are non-finite: [0.48680927 0.48680927 0.48680927 ...        nan        nan        nan]\n",
      "  warnings.warn(\n"
     ]
    }
   ],
   "source": [
    "#Run KNN grid search with all features\n",
    "#No scaling\n",
    "params = {\n",
    "    'n_neighbors':  list(range(1, 1000, 1)),\n",
    "    'p': [1,2],\n",
    "    'weights': ['uniform', 'distance'],\n",
    "    'metric': ['euclidean', 'manhattan']\n",
    "}\n",
    "\n",
    "#Random Search of Best Parameters\n",
    "gs = GridSearchCV(\n",
    "    KNeighborsClassifier(), \n",
    "    params, \n",
    "    verbose=1, \n",
    "    cv=5,\n",
    "    n_jobs=-1\n",
    ")\n",
    "\n",
    "# Fit the model\n",
    "gs_results = gs.fit(X_train, Y_train)\n",
    "\n",
    "#Display the best parameters\n",
    "pars = str(gs_results.best_params_)\n",
    "pars = pars.replace(\",\", \",\\n\")\n",
    "\n",
    "#Get the classifier with the best parameters\n",
    "clf_best = gs_results.best_estimator_\n",
    "Y_hat = clf_best.predict(X_test)\n",
    "\n",
    "# mean accuracy test dataset\n",
    "the_score = gs_results.best_score_\n",
    "the_accuracy = clf_best.score(X_test, Y_test)\n",
    "#Classification Error (Testing Error Rate)\n",
    "the_error = np.mean(Y_hat != Y_test)\n"
   ]
  },
  {
   "cell_type": "code",
   "execution_count": 99,
   "id": "1c550d9b-4caf-4929-9fe4-d3a92031c1e0",
   "metadata": {},
   "outputs": [
    {
     "data": {
      "text/plain": [
       "\"{'metric': 'manhattan',\\n 'n_neighbors': 4,\\n 'p': 1,\\n 'weights': 'distance'}\""
      ]
     },
     "execution_count": 99,
     "metadata": {},
     "output_type": "execute_result"
    }
   ],
   "source": [
    "#Best Parameters\n",
    "#All features (No Scaled)\n",
    "pars"
   ]
  },
  {
   "cell_type": "code",
   "execution_count": 100,
   "id": "980f5a36-cb76-4742-b94e-2fb290ec0356",
   "metadata": {},
   "outputs": [
    {
     "name": "stdout",
     "output_type": "stream",
     "text": [
      "Accuracy: 0.5424063116370809. Score: 0.6242424242424243. Error: 0.45759368836291914\n"
     ]
    }
   ],
   "source": [
    "#All features (No Scaled)\n",
    "# Accuracy and error\n",
    "print(\"Accuracy: %s. Score: %s. Error: %s\" % (the_accuracy, the_score, the_error))"
   ]
  },
  {
   "cell_type": "code",
   "execution_count": 101,
   "id": "cfd0d116-641e-4717-b415-058a824a74da",
   "metadata": {},
   "outputs": [],
   "source": [
    "# Accuracy\n",
    "# Not Scaled (All Features)\n",
    "the_accuracy_ns = the_accuracy"
   ]
  },
  {
   "cell_type": "code",
   "execution_count": 102,
   "id": "e8883530-6c38-4069-a678-10fca3de187e",
   "metadata": {},
   "outputs": [],
   "source": [
    "#Scale the data\n",
    "#All features\n",
    "scaler = StandardScaler() #standardize data values into standard format\n",
    "X_train_std = scaler.fit_transform(X_train)\n",
    "X_test_std = scaler.transform(X_test)"
   ]
  },
  {
   "cell_type": "code",
   "execution_count": 103,
   "id": "66359201-9b7e-45ba-89be-552b354ff058",
   "metadata": {},
   "outputs": [
    {
     "name": "stdout",
     "output_type": "stream",
     "text": [
      "Fitting 5 folds for each of 7992 candidates, totalling 39960 fits\n"
     ]
    },
    {
     "name": "stderr",
     "output_type": "stream",
     "text": [
      "C:\\ProgramData\\Anaconda3\\lib\\site-packages\\sklearn\\model_selection\\_search.py:969: UserWarning: One or more of the test scores are non-finite: [0.74313725 0.74313725 0.74313725 ...        nan        nan        nan]\n",
      "  warnings.warn(\n"
     ]
    }
   ],
   "source": [
    "#Run KNN grid search with all features\n",
    "#Scaling\n",
    "params = {\n",
    "    'n_neighbors':  list(range(1, 1000, 1)),\n",
    "    'p': [1,2],\n",
    "    'weights': ['uniform', 'distance'],\n",
    "    'metric': ['euclidean', 'manhattan']\n",
    "}\n",
    "\n",
    "#Random Search of Best Parameters\n",
    "gs = GridSearchCV(\n",
    "    KNeighborsClassifier(), \n",
    "    params, \n",
    "    verbose=1, \n",
    "    cv=5,\n",
    "    n_jobs=-1\n",
    ")\n",
    "\n",
    "# Fit the model\n",
    "gs_results = gs.fit(X_train_std, Y_train)\n",
    "\n",
    "#Display the best parameters\n",
    "pars = str(gs_results.best_params_)\n",
    "pars = pars.replace(\",\", \",\\n\")\n",
    "\n",
    "#Get the classifier with the best parameters\n",
    "clf_best = gs_results.best_estimator_\n",
    "Y_hat = clf_best.predict(X_test_std)\n",
    "\n",
    "# mean accuracy test dataset\n",
    "the_score = gs_results.best_score_\n",
    "the_accuracy = clf_best.score(X_test_std, Y_test)\n",
    "#Classification Error (Testing Error Rate)\n",
    "the_error = np.mean(Y_hat != Y_test)"
   ]
  },
  {
   "cell_type": "code",
   "execution_count": 104,
   "id": "23d03ab2-0f39-415b-aef5-e588077771cc",
   "metadata": {},
   "outputs": [
    {
     "data": {
      "text/plain": [
       "\"{'metric': 'manhattan',\\n 'n_neighbors': 8,\\n 'p': 1,\\n 'weights': 'distance'}\""
      ]
     },
     "execution_count": 104,
     "metadata": {},
     "output_type": "execute_result"
    }
   ],
   "source": [
    "#Best Parameters\n",
    "#All features (Scaled)\n",
    "pars"
   ]
  },
  {
   "cell_type": "code",
   "execution_count": 105,
   "id": "61a19086-f770-401b-a943-a4e23b14b82d",
   "metadata": {},
   "outputs": [
    {
     "name": "stdout",
     "output_type": "stream",
     "text": [
      "Accuracy: 0.777120315581854. Score: 0.8274509803921569. Error: 0.22287968441814596\n"
     ]
    }
   ],
   "source": [
    "#All features (Scaled)\n",
    "# Accuracy and error\n",
    "print(\"Accuracy: %s. Score: %s. Error: %s\" % (the_accuracy, the_score, the_error))"
   ]
  },
  {
   "cell_type": "code",
   "execution_count": 106,
   "id": "12164958-bbbf-48e1-be12-d714098a9a3d",
   "metadata": {},
   "outputs": [],
   "source": [
    "# Accuracy\n",
    "# Scaled (All Features)\n",
    "the_accuracy_s = the_accuracy"
   ]
  },
  {
   "cell_type": "code",
   "execution_count": 107,
   "id": "41137f84-fa09-4d40-8adb-9ea5823f9ec5",
   "metadata": {},
   "outputs": [
    {
     "data": {
      "image/png": "[encoded data removed]",
      "text/plain": [
       "<Figure size 1440x360 with 1 Axes>"
      ]
     },
     "metadata": {
      "needs_background": "light"
     },
     "output_type": "display_data"
    }
   ],
   "source": [
    "#Plot results All Features (Scaled vs Not Scaled Accuracy)\n",
    "fig = plt.figure(figsize=(20,5))\n",
    "plt.subplot(121)\n",
    "plt.plot([0, 1], [the_accuracy_ns, the_accuracy_s]); plt.xticks([0, 1], [\"No Scaling\", \"Scaling\"])\n",
    "plt.title(\"All Features Accuracy (Scaling Vs. No Scaling) \",fontsize = 15)\n",
    "plt.xlabel('Model',fontsize = 12)\n",
    "plt.xticks(rotation = 70)\n",
    "plt.ylabel('Accuracy',fontsize = 12)\n",
    "plt.show()"
   ]
  },
  {
   "cell_type": "code",
   "execution_count": 108,
   "id": "e1f6e695-60a7-47d0-81a0-805defd68e89",
   "metadata": {},
   "outputs": [
    {
     "name": "stdout",
     "output_type": "stream",
     "text": [
      "Fitting 5 folds for each of 7992 candidates, totalling 39960 fits\n"
     ]
    },
    {
     "name": "stderr",
     "output_type": "stream",
     "text": [
      "C:\\ProgramData\\Anaconda3\\lib\\site-packages\\sklearn\\model_selection\\_search.py:969: UserWarning: One or more of the test scores are non-finite: [0.46399287 0.46399287 0.46399287 ...        nan        nan        nan]\n",
      "  warnings.warn(\n"
     ]
    },
    {
     "name": "stdout",
     "output_type": "stream",
     "text": [
      "Fitting 5 folds for each of 7992 candidates, totalling 39960 fits\n"
     ]
    },
    {
     "name": "stderr",
     "output_type": "stream",
     "text": [
      "C:\\ProgramData\\Anaconda3\\lib\\site-packages\\sklearn\\model_selection\\_search.py:969: UserWarning: One or more of the test scores are non-finite: [0.47522282 0.47522282 0.47522282 ...        nan        nan        nan]\n",
      "  warnings.warn(\n"
     ]
    },
    {
     "name": "stdout",
     "output_type": "stream",
     "text": [
      "Fitting 5 folds for each of 7992 candidates, totalling 39960 fits\n"
     ]
    },
    {
     "name": "stderr",
     "output_type": "stream",
     "text": [
      "C:\\ProgramData\\Anaconda3\\lib\\site-packages\\sklearn\\model_selection\\_search.py:969: UserWarning: One or more of the test scores are non-finite: [0.4456328 0.4456328 0.4456328 ...       nan       nan       nan]\n",
      "  warnings.warn(\n"
     ]
    },
    {
     "name": "stdout",
     "output_type": "stream",
     "text": [
      "Fitting 5 folds for each of 7992 candidates, totalling 39960 fits\n"
     ]
    },
    {
     "name": "stderr",
     "output_type": "stream",
     "text": [
      "C:\\ProgramData\\Anaconda3\\lib\\site-packages\\sklearn\\model_selection\\_search.py:969: UserWarning: One or more of the test scores are non-finite: [0.40427807 0.40427807 0.40427807 ...        nan        nan        nan]\n",
      "  warnings.warn(\n"
     ]
    },
    {
     "name": "stdout",
     "output_type": "stream",
     "text": [
      "Fitting 5 folds for each of 7992 candidates, totalling 39960 fits\n"
     ]
    },
    {
     "name": "stderr",
     "output_type": "stream",
     "text": [
      "C:\\ProgramData\\Anaconda3\\lib\\site-packages\\sklearn\\model_selection\\_search.py:969: UserWarning: One or more of the test scores are non-finite: [0.2741533 0.2741533 0.2741533 ...       nan       nan       nan]\n",
      "  warnings.warn(\n"
     ]
    },
    {
     "name": "stdout",
     "output_type": "stream",
     "text": [
      "Fitting 5 folds for each of 7992 candidates, totalling 39960 fits\n"
     ]
    },
    {
     "name": "stderr",
     "output_type": "stream",
     "text": [
      "C:\\ProgramData\\Anaconda3\\lib\\site-packages\\sklearn\\model_selection\\_search.py:969: UserWarning: One or more of the test scores are non-finite: [0.29144385 0.29144385 0.29144385 ...        nan        nan        nan]\n",
      "  warnings.warn(\n"
     ]
    },
    {
     "name": "stdout",
     "output_type": "stream",
     "text": [
      "Fitting 5 folds for each of 7992 candidates, totalling 39960 fits\n"
     ]
    },
    {
     "name": "stderr",
     "output_type": "stream",
     "text": [
      "C:\\ProgramData\\Anaconda3\\lib\\site-packages\\sklearn\\model_selection\\_search.py:969: UserWarning: One or more of the test scores are non-finite: [0.29144385 0.29144385 0.29144385 ...        nan        nan        nan]\n",
      "  warnings.warn(\n"
     ]
    }
   ],
   "source": [
    "# Each feature set\n",
    "# No Scaling the Data\n",
    "# This is KNN for each Feature Set\n",
    "# dictionary to save results\n",
    "rf_results_model1 = {'index' : [], 'scale' : [], \n",
    "                     'accuracy' : [], 'error' : []}\n",
    "rf_results_model2 = {'index' : [], 'clf_best' : [], 'X_train' : [],'Y_train' : [],\n",
    "                     'X_test' : [], 'Y_test' : [],\n",
    "                     'clf_pars' : [], 'clf_score' : []}\n",
    "#K Neighbors Classifier\n",
    "for i in range(7):\n",
    "    origin = 20*i + i + 1\n",
    "    destination = 20*i + i + 22\n",
    "    X_train = train.iloc[:,range(origin,destination)]\n",
    "    X_test  = test.iloc[:,range(origin,destination)]\n",
    "    the_scale = 20 * i + 20\n",
    "    params = {\n",
    "        'n_neighbors':  list(range(1, 1000, 1)),\n",
    "        'p': [1,2],\n",
    "        'weights': ['uniform', 'distance'],\n",
    "        'metric': ['euclidean', 'manhattan']\n",
    "    }\n",
    "\n",
    "    #Random Search of Best Parameters\n",
    "    gs = GridSearchCV(\n",
    "        KNeighborsClassifier(), \n",
    "        params, \n",
    "        verbose=1, \n",
    "        cv=5,\n",
    "        n_jobs=-1\n",
    "    )\n",
    "\n",
    "    # Fit the model\n",
    "    gs_results = gs.fit(X_train, Y_train)\n",
    "\n",
    "    #Display the best parameters\n",
    "    pars = str(gs_results.best_params_)\n",
    "    pars = pars.replace(\",\", \",\\n\")\n",
    "\n",
    "    #Get the classifier with the best parameters\n",
    "    clf_best = gs_results.best_estimator_\n",
    "    Y_hat = clf_best.predict(X_test)\n",
    "\n",
    "    # mean accuracy test dataset\n",
    "    the_score = gs_results.best_score_\n",
    "    the_accuracy = clf_best.score(X_test, Y_test)\n",
    "    #Classification Error (Testing Error Rate)\n",
    "    the_error = np.mean(Y_hat != Y_test)\n",
    "\n",
    "    \n",
    "    #Save results in dictionary    \n",
    "    rf_results_model1['index'].append(i)\n",
    "    rf_results_model1['scale'].append(the_scale)\n",
    "    rf_results_model1['accuracy'].append(the_accuracy)\n",
    "    rf_results_model1['error'].append(the_error)\n",
    "    #\n",
    "    rf_results_model2['index'].append(i)\n",
    "    rf_results_model2['clf_best'].append(clf_best)\n",
    "    rf_results_model2['X_train'].append(X_train)\n",
    "    rf_results_model2['Y_train'].append(Y_train)\n",
    "    rf_results_model2['X_test'].append(X_test)\n",
    "    rf_results_model2['Y_test'].append(Y_test)\n",
    "    rf_results_model2['clf_pars'].append(pars)\n",
    "    rf_results_model2['clf_score'].append(the_score)"
   ]
  },
  {
   "cell_type": "code",
   "execution_count": 109,
   "id": "de7a5d02-0b17-440d-aa66-1c812e5f63c8",
   "metadata": {},
   "outputs": [
    {
     "name": "stdout",
     "output_type": "stream",
     "text": [
      "Fitting 5 folds for each of 7992 candidates, totalling 39960 fits\n"
     ]
    },
    {
     "name": "stderr",
     "output_type": "stream",
     "text": [
      "C:\\ProgramData\\Anaconda3\\lib\\site-packages\\sklearn\\model_selection\\_search.py:969: UserWarning: One or more of the test scores are non-finite: [0.73262032 0.73262032 0.73262032 ...        nan        nan        nan]\n",
      "  warnings.warn(\n"
     ]
    },
    {
     "name": "stdout",
     "output_type": "stream",
     "text": [
      "Fitting 5 folds for each of 7992 candidates, totalling 39960 fits\n"
     ]
    },
    {
     "name": "stderr",
     "output_type": "stream",
     "text": [
      "C:\\ProgramData\\Anaconda3\\lib\\site-packages\\sklearn\\model_selection\\_search.py:969: UserWarning: One or more of the test scores are non-finite: [0.7368984 0.7368984 0.7368984 ...       nan       nan       nan]\n",
      "  warnings.warn(\n"
     ]
    },
    {
     "name": "stdout",
     "output_type": "stream",
     "text": [
      "Fitting 5 folds for each of 7992 candidates, totalling 39960 fits\n"
     ]
    },
    {
     "name": "stderr",
     "output_type": "stream",
     "text": [
      "C:\\ProgramData\\Anaconda3\\lib\\site-packages\\sklearn\\model_selection\\_search.py:969: UserWarning: One or more of the test scores are non-finite: [0.70249554 0.70249554 0.70249554 ...        nan        nan        nan]\n",
      "  warnings.warn(\n"
     ]
    },
    {
     "name": "stdout",
     "output_type": "stream",
     "text": [
      "Fitting 5 folds for each of 7992 candidates, totalling 39960 fits\n"
     ]
    },
    {
     "name": "stderr",
     "output_type": "stream",
     "text": [
      "C:\\ProgramData\\Anaconda3\\lib\\site-packages\\sklearn\\model_selection\\_search.py:969: UserWarning: One or more of the test scores are non-finite: [0.67201426 0.67201426 0.67201426 ...        nan        nan        nan]\n",
      "  warnings.warn(\n"
     ]
    },
    {
     "name": "stdout",
     "output_type": "stream",
     "text": [
      "Fitting 5 folds for each of 7992 candidates, totalling 39960 fits\n"
     ]
    },
    {
     "name": "stderr",
     "output_type": "stream",
     "text": [
      "C:\\ProgramData\\Anaconda3\\lib\\site-packages\\sklearn\\model_selection\\_search.py:969: UserWarning: One or more of the test scores are non-finite: [0.66631016 0.66631016 0.66631016 ...        nan        nan        nan]\n",
      "  warnings.warn(\n"
     ]
    },
    {
     "name": "stdout",
     "output_type": "stream",
     "text": [
      "Fitting 5 folds for each of 7992 candidates, totalling 39960 fits\n"
     ]
    },
    {
     "name": "stderr",
     "output_type": "stream",
     "text": [
      "C:\\ProgramData\\Anaconda3\\lib\\site-packages\\sklearn\\model_selection\\_search.py:969: UserWarning: One or more of the test scores are non-finite: [0.60106952 0.60106952 0.60106952 ...        nan        nan        nan]\n",
      "  warnings.warn(\n"
     ]
    },
    {
     "name": "stdout",
     "output_type": "stream",
     "text": [
      "Fitting 5 folds for each of 7992 candidates, totalling 39960 fits\n"
     ]
    },
    {
     "name": "stderr",
     "output_type": "stream",
     "text": [
      "C:\\ProgramData\\Anaconda3\\lib\\site-packages\\sklearn\\model_selection\\_search.py:969: UserWarning: One or more of the test scores are non-finite: [0.60106952 0.60106952 0.60106952 ...        nan        nan        nan]\n",
      "  warnings.warn(\n"
     ]
    }
   ],
   "source": [
    "# Each feature set\n",
    "# Scaling the Data\n",
    "# This is KNN for each Feature Set\n",
    "# dictionary to save results\n",
    "rf_results_model3 = {'index' : [], 'scale' : [], \n",
    "                     'accuracy' : [], 'error' : []}\n",
    "rf_results_model4 = {'index' : [], 'clf_best' : [], 'X_train' : [],'Y_train' : [],\n",
    "                     'X_test' : [], 'Y_test' : [],\n",
    "                     'clf_pars' : [], 'clf_score' : []}\n",
    "#K Neighbors Classifier\n",
    "for i in range(7):\n",
    "    origin = 20*i + i + 1\n",
    "    destination = 20*i + i + 22\n",
    "    X_train = train.iloc[:,range(origin,destination)]\n",
    "    X_test  = test.iloc[:,range(origin,destination)]\n",
    "    scaler = StandardScaler() #standardize data values into standard format\n",
    "    X_train_std = scaler.fit_transform(X_train)\n",
    "    X_test_std = scaler.transform(X_test)\n",
    "    the_scale = 20 * i + 20\n",
    "    params = {\n",
    "        'n_neighbors':  list(range(1, 1000, 1)),\n",
    "        'p': [1,2],\n",
    "        'weights': ['uniform', 'distance'],\n",
    "        'metric': ['euclidean', 'manhattan']\n",
    "    }\n",
    "\n",
    "    #Random Search of Best Parameters\n",
    "    gs = GridSearchCV(\n",
    "        KNeighborsClassifier(), \n",
    "        params, \n",
    "        verbose=1, \n",
    "        cv=5,\n",
    "        n_jobs=-1\n",
    "    )\n",
    "\n",
    "    # Fit the model\n",
    "    gs_results = gs.fit(X_train_std, Y_train)\n",
    "\n",
    "    #Display the best parameters\n",
    "    pars = str(gs_results.best_params_)\n",
    "    pars = pars.replace(\",\", \",\\n\")\n",
    "\n",
    "    #Get the classifier with the best parameters\n",
    "    clf_best = gs_results.best_estimator_\n",
    "    Y_hat = clf_best.predict(X_test_std)\n",
    "\n",
    "    # mean accuracy test dataset\n",
    "    the_score = gs_results.best_score_\n",
    "    the_accuracy = clf_best.score(X_test_std, Y_test)\n",
    "    #Classification Error (Testing Error Rate)\n",
    "    the_error = np.mean(Y_hat != Y_test)\n",
    "\n",
    "    \n",
    "    #Save results in dictionary    \n",
    "    rf_results_model3['index'].append(i)\n",
    "    rf_results_model3['scale'].append(the_scale)\n",
    "    rf_results_model3['accuracy'].append(the_accuracy)\n",
    "    rf_results_model3['error'].append(the_error)\n",
    "    #\n",
    "    rf_results_model4['index'].append(i)\n",
    "    rf_results_model4['clf_best'].append(clf_best)\n",
    "    rf_results_model4['X_train'].append(X_train_std)\n",
    "    rf_results_model4['Y_train'].append(Y_train)\n",
    "    rf_results_model4['X_test'].append(X_test_std)\n",
    "    rf_results_model4['Y_test'].append(Y_test)\n",
    "    rf_results_model4['clf_pars'].append(pars)\n",
    "    rf_results_model4['clf_score'].append(the_score)"
   ]
  },
  {
   "cell_type": "code",
   "execution_count": 110,
   "id": "78cb79ac-77c4-4cad-ab9e-988a587a94c3",
   "metadata": {},
   "outputs": [
    {
     "name": "stdout",
     "output_type": "stream",
     "text": [
      "index\n",
      "[0, 1, 2, 3, 4, 5, 6]\n",
      "scale\n",
      "[20, 40, 60, 80, 100, 120, 140]\n",
      "accuracy\n",
      "[0.5069033530571992, 0.45956607495069035, 0.46942800788954636, 0.5009861932938856, 0.47928994082840237, 0.4240631163708087, 0.40236686390532544]\n",
      "error\n",
      "[0.4930966469428008, 0.5404339250493096, 0.5305719921104537, 0.4990138067061144, 0.5207100591715976, 0.5759368836291914, 0.5976331360946746]\n"
     ]
    }
   ],
   "source": [
    "# print each data item in dic rf_results_model1\n",
    "#Each feature set (Not Scaled)\n",
    "for key, value in rf_results_model1.items():\n",
    "    print(key)\n",
    "    print(value)"
   ]
  },
  {
   "cell_type": "code",
   "execution_count": 111,
   "id": "e326471a-b8ab-4752-8d4f-82984abcbb32",
   "metadata": {},
   "outputs": [
    {
     "data": {
      "text/plain": [
       "[0.5951871657754011,\n",
       " 0.6240641711229946,\n",
       " 0.5654188948306595,\n",
       " 0.5889483065953655,\n",
       " 0.43493761140819964,\n",
       " 0.4641711229946524,\n",
       " 0.4641711229946524]"
      ]
     },
     "execution_count": 111,
     "metadata": {},
     "output_type": "execute_result"
    }
   ],
   "source": [
    "#Training Best Score\n",
    "#Each feature set (Not Scaled)\n",
    "rf_results_model2['clf_score']"
   ]
  },
  {
   "cell_type": "code",
   "execution_count": 112,
   "id": "096543fc-827a-4af3-b9ef-df774a79531d",
   "metadata": {},
   "outputs": [
    {
     "name": "stdout",
     "output_type": "stream",
     "text": [
      "index\n",
      "[0, 1, 2, 3, 4, 5, 6]\n",
      "scale\n",
      "[20, 40, 60, 80, 100, 120, 140]\n",
      "accuracy\n",
      "[0.6883629191321499, 0.6804733727810651, 0.7159763313609467, 0.717948717948718, 0.6903353057199211, 0.6094674556213018, 0.5779092702169625]\n",
      "error\n",
      "[0.3116370808678501, 0.31952662721893493, 0.28402366863905326, 0.28205128205128205, 0.3096646942800789, 0.3905325443786982, 0.42209072978303747]\n"
     ]
    }
   ],
   "source": [
    "# print each data item in dic rf_results_model1\n",
    "#Each feature set (Scaled)\n",
    "for key, value in rf_results_model3.items():\n",
    "    print(key)\n",
    "    print(value)"
   ]
  },
  {
   "cell_type": "code",
   "execution_count": 113,
   "id": "329c6a38-586b-4de3-8ea1-c9a99417b9ac",
   "metadata": {},
   "outputs": [
    {
     "data": {
      "text/plain": [
       "[0.8037433155080214,\n",
       " 0.8204991087344029,\n",
       " 0.7910873440285204,\n",
       " 0.7502673796791445,\n",
       " 0.738680926916221,\n",
       " 0.7081996434937612,\n",
       " 0.7081996434937612]"
      ]
     },
     "execution_count": 113,
     "metadata": {},
     "output_type": "execute_result"
    }
   ],
   "source": [
    "#Training Best Score\n",
    "#Each feature set (Scaled)\n",
    "rf_results_model4['clf_score']"
   ]
  },
  {
   "cell_type": "code",
   "execution_count": 114,
   "id": "258f73c7-f2a5-443c-bf93-827b4b1c2483",
   "metadata": {},
   "outputs": [],
   "source": [
    "# plot accuracy for visualization\n",
    "#Each feature set (Not Scaled Vs. Scaled)\n",
    "data = rf_results_model1['accuracy']\n",
    "labels = rf_results_model1['scale']\n",
    "data_std = rf_results_model3['accuracy']\n",
    "labels_std = rf_results_model3['scale']"
   ]
  },
  {
   "cell_type": "code",
   "execution_count": 115,
   "id": "fa240c60-d8b3-4e62-8363-aeb54772fc3e",
   "metadata": {},
   "outputs": [
    {
     "data": {
      "image/png": "[encoded data removed]",
      "text/plain": [
       "<Figure size 1440x360 with 2 Axes>"
      ]
     },
     "metadata": {
      "needs_background": "light"
     },
     "output_type": "display_data"
    }
   ],
   "source": [
    "# plot accuracy for visualization\n",
    "#Each feature set (Not Scaled Vs. Scaled)\n",
    "fig = plt.figure(figsize=(20,5))\n",
    "plt.subplot(121)\n",
    "plt.plot([i for i, e in enumerate(data)], data); plt.xticks([i for i, e in enumerate(labels)], [l for l in labels])\n",
    "plt.title(\"Accuracy Without Scaling\",fontsize = 15)\n",
    "plt.xlabel('Model',fontsize = 12)\n",
    "plt.xticks(rotation = 0)\n",
    "plt.ylabel('Accuracy',fontsize = 12)\n",
    "plt.subplot(122)\n",
    "plt.plot([i for i, e in enumerate(data_std)], data_std); plt.xticks([i for i, e in enumerate(labels_std)], [l for l in labels_std])\n",
    "plt.title(\"Accuracy After Scaling\",fontsize = 15)\n",
    "plt.xlabel('Model',fontsize = 12)\n",
    "plt.xticks(rotation =0)\n",
    "plt.show()"
   ]
  },
  {
   "cell_type": "code",
   "execution_count": 116,
   "id": "70075261-1bdc-4dbf-9cb3-c06bce1c5deb",
   "metadata": {},
   "outputs": [],
   "source": [
    "# print each data item in dic rf_results_model2\n",
    "#for key, value in rf_results_model2.items():\n",
    "#    print(key)\n",
    "#    print(value)"
   ]
  },
  {
   "cell_type": "code",
   "execution_count": 117,
   "id": "a882936f-5488-41cc-a195-03a43b319b47",
   "metadata": {},
   "outputs": [
    {
     "data": {
      "text/plain": [
       "(3, 80, 0.717948717948718)"
      ]
     },
     "execution_count": 117,
     "metadata": {},
     "output_type": "execute_result"
    }
   ],
   "source": [
    "# Scaled is best in KNN\n",
    "#Each feature set (Scaled has better scores)\n",
    "#Index of the MAX accuracy element in a dictionary\n",
    "the_index = rf_results_model3['accuracy'].index(max(rf_results_model3['accuracy']))\n",
    "the_scale = rf_results_model3['scale'][the_index]\n",
    "the_accuracy = rf_results_model3['accuracy'][the_index]\n",
    "the_index, the_scale, the_accuracy"
   ]
  },
  {
   "cell_type": "code",
   "execution_count": 118,
   "id": "8119e19b-d719-43df-bd1c-2b454bbb6f81",
   "metadata": {},
   "outputs": [],
   "source": [
    "# recap the best model\n",
    "# Scaled is best in KNN\n",
    "clf_best = rf_results_model4['clf_best'][the_index]\n",
    "X_train = rf_results_model4['X_train'][the_index]\n",
    "Y_train = rf_results_model4['Y_train'][the_index]\n",
    "X_test = rf_results_model4['X_test'][the_index]\n",
    "Y_test = rf_results_model4['Y_test'][the_index]"
   ]
  },
  {
   "cell_type": "code",
   "execution_count": 119,
   "id": "8b6141d6-d760-46e1-8ba1-27cb58f37639",
   "metadata": {},
   "outputs": [
    {
     "data": {
      "text/plain": [
       "\"{'metric': 'manhattan',\\n 'n_neighbors': 11,\\n 'p': 1,\\n 'weights': 'uniform'}\""
      ]
     },
     "execution_count": 119,
     "metadata": {},
     "output_type": "execute_result"
    }
   ],
   "source": [
    "# show the parameters\n",
    "# Scaled is best in KNN\n",
    "pars = rf_results_model4['clf_pars'][the_index]\n",
    "pars"
   ]
  },
  {
   "cell_type": "code",
   "execution_count": 120,
   "id": "751497b6-bc77-4fe1-9e80-4feca15ce22a",
   "metadata": {},
   "outputs": [
    {
     "name": "stdout",
     "output_type": "stream",
     "text": [
      "Metrics: \n",
      "               precision    recall  f1-score   support\n",
      "\n",
      "    asphalt        0.83      0.67      0.74        45\n",
      "   building        0.82      0.76      0.79        97\n",
      "        car        0.46      0.57      0.51        21\n",
      "   concrete        0.78      0.81      0.79        93\n",
      "      grass        0.69      0.65      0.67        83\n",
      "       pool        0.73      0.57      0.64        14\n",
      "     shadow        0.73      0.78      0.75        45\n",
      "       soil        0.31      0.40      0.35        20\n",
      "       tree        0.71      0.76      0.74        89\n",
      "\n",
      "    accuracy                           0.72       507\n",
      "   macro avg       0.67      0.66      0.66       507\n",
      "weighted avg       0.73      0.72      0.72       507\n",
      "\n"
     ]
    }
   ],
   "source": [
    "# Metrics\n",
    "#gs_results = clf_best.fit(X_train, Y_train)\n",
    "Y_hat = clf_best.predict(X_test)\n",
    "print('Metrics: \\n', classification_report(Y_test, Y_hat))"
   ]
  }
 ],
 "metadata": {
  "kernelspec": {
   "display_name": "Python 3 (ipykernel)",
   "language": "python",
   "name": "python3"
  },
  "language_info": {
   "codemirror_mode": {
    "name": "ipython",
    "version": 3
   },
   "file_extension": ".py",
   "mimetype": "text/x-python",
   "name": "python",
   "nbconvert_exporter": "python",
   "pygments_lexer": "ipython3",
   "version": "3.8.8"
  }
 },
 "nbformat": 4,
 "nbformat_minor": 5
}
